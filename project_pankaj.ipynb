{
 "cells": [
  {
   "cell_type": "code",
   "execution_count": null,
   "id": "1907676a",
   "metadata": {},
   "outputs": [],
   "source": [
    "import numpy as np\n",
    "import pandas as pd\n",
    "import matplotlib.pyplot as plt"
   ]
  },
  {
   "cell_type": "markdown",
   "id": "873bc164",
   "metadata": {},
   "source": [
    "# Load Data"
   ]
  },
  {
   "cell_type": "code",
   "execution_count": null,
   "id": "b51de008",
   "metadata": {},
   "outputs": [],
   "source": [
    "df = pd.read_csv('WLANDHCP_buildings.csv')\n",
    "df_users = pd.read_csv('users.csv')\n",
    "df_users = df_users.loc[:, ~df_users.columns.str.contains('^Unnamed')]"
   ]
  },
  {
   "cell_type": "code",
   "execution_count": null,
   "id": "5f9d74d6",
   "metadata": {},
   "outputs": [],
   "source": [
    "X = df.values[:, 0:2352]\n",
    "y = df.values[:, -1]"
   ]
  },
  {
   "cell_type": "markdown",
   "id": "4f808788",
   "metadata": {},
   "source": [
    "# Dendrogram"
   ]
  },
  {
   "cell_type": "code",
   "execution_count": null,
   "id": "e9402784",
   "metadata": {},
   "outputs": [],
   "source": [
    "from scipy.cluster.hierarchy import dendrogram\n",
    "from scipy.cluster.hierarchy import linkage\n",
    "dendogram_plot = dendrogram(linkage(X, method='ward'))\n",
    "plt.xlabel('Users')\n",
    "plt.show()"
   ]
  },
  {
   "cell_type": "markdown",
   "id": "36726941",
   "metadata": {},
   "source": [
    "# Agglomerative Clustering"
   ]
  },
  {
   "cell_type": "code",
   "execution_count": null,
   "id": "4c50086b",
   "metadata": {},
   "outputs": [],
   "source": [
    "from sklearn.cluster import AgglomerativeClustering\n",
    "ac = AgglomerativeClustering(n_clusters=3, linkage='ward')\n",
    "ac.fit(X)\n",
    "pred = ac.labels_\n",
    "plt.xlabel('PCA 1')\n",
    "plt.ylabel('PCA 2')\n",
    "plt.scatter(components_df['pc_1'], components_df['pc_2'], c = pred, marker='o')\n",
    "plt.show()"
   ]
  },
  {
   "cell_type": "code",
   "execution_count": null,
   "id": "2c8ae4f7",
   "metadata": {},
   "outputs": [],
   "source": [
    "train_x = X\n",
    "train_y = y"
   ]
  },
  {
   "cell_type": "markdown",
   "id": "a8713ecb",
   "metadata": {},
   "source": [
    "# Support Vector Machine"
   ]
  },
  {
   "cell_type": "code",
   "execution_count": null,
   "id": "dd99e764",
   "metadata": {},
   "outputs": [],
   "source": [
    "from sklearn import svm\n",
    "from sklearn.metrics import accuracy_score\n",
    "\n",
    "classifier = svm.SVC(kernel='rbf')\n",
    "classifier.fit(train_x, train_y)\n",
    "y_pred = classifier.predict(test_x)\n",
    "print(\"Test Accuracy \" + str(accuracy_score(test_y, y_pred)*100))\n",
    "predtrain_y = classifier.predict(train_x)\n",
    "print(\"Training Accuracy \" + str(accuracy_score(train_y, predtrain_y)*100))"
   ]
  },
  {
   "cell_type": "code",
   "execution_count": null,
   "id": "14e9bd78",
   "metadata": {},
   "outputs": [],
   "source": []
  },
  {
   "cell_type": "code",
   "execution_count": null,
   "id": "325914f9",
   "metadata": {},
   "outputs": [],
   "source": []
  }
 ],
 "metadata": {
  "kernelspec": {
   "display_name": "Python 3",
   "language": "python",
   "name": "python3"
  },
  "language_info": {
   "codemirror_mode": {
    "name": "ipython",
    "version": 3
   },
   "file_extension": ".py",
   "mimetype": "text/x-python",
   "name": "python",
   "nbconvert_exporter": "python",
   "pygments_lexer": "ipython3",
   "version": "3.8.5"
  }
 },
 "nbformat": 4,
 "nbformat_minor": 5
}
