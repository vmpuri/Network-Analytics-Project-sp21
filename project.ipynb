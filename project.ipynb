{
 "metadata": {
  "language_info": {
   "codemirror_mode": {
    "name": "ipython",
    "version": 3
   },
   "file_extension": ".py",
   "mimetype": "text/x-python",
   "name": "python",
   "nbconvert_exporter": "python",
   "pygments_lexer": "ipython3",
   "version": 3
  },
  "orig_nbformat": 2
 },
 "nbformat": 4,
 "nbformat_minor": 2,
 "cells": [
  {
   "cell_type": "code",
   "execution_count": null,
   "metadata": {},
   "outputs": [],
   "source": [
    "group_members=['Pankaj Chand', 'Keith Levengood', 'Nicholas Kroeger', 'Varun Puri']\n",
    "print('Experiment 1 : CIS6930 Network Analytics & Machine Learning')\n",
    "print('Group Members:', group_members)\n",
    "\n",
    "import pandas as pd\n",
    "import matplotlib\n",
    "import matplotlib.pyplot as plt\n",
    "import numpy as np\n",
    "from os import listdir\n",
    "from datetime import datetime\n",
    "\n",
    "print('\\nLibrary Versions')\n",
    "print('### Python version: ' + __import__('sys').version)\n",
    "print('### Pandas Version: ' + pd.__version__)\n",
    "print('### MatPlotLib version:' + matplotlib.__version__)\n",
    "print('------------')"
   ]
  }
 ]
}