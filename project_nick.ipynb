{
 "cells": [
  {
   "cell_type": "markdown",
   "metadata": {},
   "source": [
    "# Network Analytics Project"
   ]
  },
  {
   "cell_type": "code",
   "execution_count": 76,
   "metadata": {},
   "outputs": [
    {
     "name": "stdout",
     "output_type": "stream",
     "text": [
      "Project: CIS6930 Network Analytics & Machine Learning\n",
      "Group Members: ['Pankaj Chand', 'Keith Levengood', 'Nicholas Kroeger', 'Varun Puri']\n",
      "\n",
      "Library Versions\n",
      "### Python version: 3.7.6 (default, Jan  8 2020, 13:42:34) \n",
      "[Clang 4.0.1 (tags/RELEASE_401/final)]\n",
      "### Pandas Version: 1.2.2\n",
      "### MatPlotLib version:3.3.4\n",
      "------------\n"
     ]
    }
   ],
   "source": [
    "group_members=['Pankaj Chand', 'Keith Levengood', 'Nicholas Kroeger', 'Varun Puri']\n",
    "print('Project: CIS6930 Network Analytics & Machine Learning')\n",
    "print('Group Members:', group_members)\n",
    "\n",
    "import pandas as pd\n",
    "import matplotlib\n",
    "import matplotlib.pyplot as plt\n",
    "import numpy as np\n",
    "from os import listdir\n",
    "from datetime import datetime\n",
    "import pickle\n",
    "\n",
    "print('\\nLibrary Versions')\n",
    "print('### Python version: ' + __import__('sys').version)\n",
    "print('### Pandas Version: ' + pd.__version__)\n",
    "print('### MatPlotLib version:' + matplotlib.__version__)\n",
    "print('------------')"
   ]
  },
  {
   "cell_type": "markdown",
   "metadata": {},
   "source": [
    "# Load in data"
   ]
  },
  {
   "cell_type": "code",
   "execution_count": 3,
   "metadata": {},
   "outputs": [],
   "source": [
    "import itertools\n",
    "\n",
    "# Helper function to get the prefix of each APNAME \n",
    "def convertAPNameToPrefix(df):\n",
    "    prefixes = []\n",
    "    for i in range(len(df)):\n",
    "        tempPrefix = [\"\".join(x) for _, x in itertools.groupby(df.iloc[i], key=str.isdigit)][0]\n",
    "        prefixes.append(tempPrefix)\n",
    "    return prefixes"
   ]
  },
  {
   "cell_type": "code",
   "execution_count": 4,
   "metadata": {},
   "outputs": [],
   "source": [
    "loadPreprocessedData = True"
   ]
  },
  {
   "cell_type": "code",
   "execution_count": 5,
   "metadata": {},
   "outputs": [],
   "source": [
    "if loadPreprocessedData == False:\n",
    "    #load in csv, append APNAME to end of dataframe, save it out as .pkl\n",
    "    data = pd.read_csv('DHCP_April_2012_ANON_MAC_devType.csv')\n",
    "    print(\"loaded first dataframe\")\n",
    "    \n",
    "    print(\"Appending prefix name to table... will take a few minutes\")\n",
    "    \n",
    "    prefixes_col   = convertAPNameToPrefix(data['APNAME'])\n",
    "    data['prefix'] = prefixes_col\n",
    "    \n",
    "    print(\"Saving out new dataframe to .pkl file\")\n",
    "    data.to_pickle(\"./DHCP_April_2012_ANON_MAC_devType_wAPNAME.pkl\")\n",
    "else:\n",
    "    #load in preprecossed data\n",
    "    data = pd.read_pickle(\"./DHCP_April_2012_ANON_MAC_devType_wAPNAME.pkl\")"
   ]
  },
  {
   "cell_type": "markdown",
   "metadata": {},
   "source": [
    "# Look at the data"
   ]
  },
  {
   "cell_type": "code",
   "execution_count": 28,
   "metadata": {},
   "outputs": [
    {
     "data": {
      "text/plain": [
       "(           userIP  userMAC                APNAME              APMAC  \\\n",
       " 0   10.131.172.58    26257  fli113-win-lap3502-1  44:e4:d9:00:ed:e0   \n",
       " 1        10.0.1.3    22699  hrb112-win-lap1231-1  00:1a:a2:09:93:90   \n",
       " 2  10.132.190.205    30264  soc1402-temp-lap3502  58:35:d9:d5:cd:c0   \n",
       " 3  10.130.146.252    72815  soc1402-temp-lap3502  58:35:d9:d5:cd:c0   \n",
       " 4   10.130.248.68    69249               unknown  00:00:00:00:00:00   \n",
       " \n",
       "     startTime     endTime deviceType   prefix  \n",
       " 0  1333238682  1333238682          f      fli  \n",
       " 1  1333238682  1333238687    unknown      hrb  \n",
       " 2  1333238685  1333238687          f      soc  \n",
       " 3  1333238688  1333238688          f      soc  \n",
       " 4  1333238690  1333238690          f  unknown  ,\n",
       " (22821939, 8))"
      ]
     },
     "execution_count": 28,
     "metadata": {},
     "output_type": "execute_result"
    }
   ],
   "source": [
    "data.head(), data.shape"
   ]
  },
  {
   "cell_type": "code",
   "execution_count": 6,
   "metadata": {},
   "outputs": [
    {
     "name": "stdout",
     "output_type": "stream",
     "text": [
      "2012-04-01 00:04:41\n",
      "2012-05-01 00:05:20\n"
     ]
    },
    {
     "data": {
      "text/plain": [
       "<AxesSubplot:>"
      ]
     },
     "execution_count": 6,
     "metadata": {},
     "output_type": "execute_result"
    },
    {
     "data": {
      "image/png": "[encoded data removed]",
      "text/plain": [
       "<Figure size 432x288 with 1 Axes>"
      ]
     },
     "metadata": {
      "needs_background": "light"
     },
     "output_type": "display_data"
    }
   ],
   "source": [
    "print(pd.to_datetime(data['startTime'].min(), unit='s'))\n",
    "print(pd.to_datetime(data['endTime'].max(), unit='s'))\n",
    "data['startTime'].hist(bins=1000)\n",
    "data['endTime'].hist(bins=1000)"
   ]
  },
  {
   "cell_type": "markdown",
   "metadata": {},
   "source": [
    "# Load in prefix and building information"
   ]
  },
  {
   "cell_type": "code",
   "execution_count": 7,
   "metadata": {
    "scrolled": false
   },
   "outputs": [],
   "source": [
    "prefix_lat_lon = pd.read_csv('prefix_lat_lon_name_category.csv')\n",
    "legalPrefixes = prefix_lat_lon.prefix"
   ]
  },
  {
   "cell_type": "code",
   "execution_count": 24,
   "metadata": {},
   "outputs": [
    {
     "data": {
      "text/plain": [
       "0     aaf\n",
       "1     adv\n",
       "2     aer\n",
       "3    aerv\n",
       "4     alf\n",
       "Name: prefix, dtype: object"
      ]
     },
     "execution_count": 24,
     "metadata": {},
     "output_type": "execute_result"
    }
   ],
   "source": [
    "legalPrefixes.head()"
   ]
  },
  {
   "cell_type": "markdown",
   "metadata": {},
   "source": [
    "# Clean the data"
   ]
  },
  {
   "cell_type": "code",
   "execution_count": 227,
   "metadata": {},
   "outputs": [],
   "source": [
    "#prefixes found from our preprocessing function\n",
    "prefixesFound = np.unique(data.prefix)"
   ]
  },
  {
   "cell_type": "code",
   "execution_count": 228,
   "metadata": {},
   "outputs": [],
   "source": [
    "#prefixes in the base table that don't match in the prefix table \n",
    "#TODO: more preprocessing to keep some of these?\n",
    "unknownPrefixes = list(np.setdiff1d(prefixesFound, np.asarray(legalPrefixes)))"
   ]
  },
  {
   "cell_type": "code",
   "execution_count": 229,
   "metadata": {},
   "outputs": [
    {
     "data": {
      "text/plain": [
       "['AP',\n",
       " 'APc',\n",
       " 'APe',\n",
       " 'APf',\n",
       " 'apopka-win-lap',\n",
       " 'b',\n",
       " 'broEastOIR-win-lap',\n",
       " 'broOIR-EB',\n",
       " 'bwcbookstore-win-lap',\n",
       " 'carATTIC-win-lap',\n",
       " 'carATTIC-wout-lap',\n",
       " 'cba-ftlauderdale-win-lap',\n",
       " 'crecxxxrxx-win-lap',\n",
       " 'ctx',\n",
       " 'dairy-win-lap',\n",
       " 'dauxxx-win-lap',\n",
       " 'dinefreshfood-win-lap',\n",
       " 'escv',\n",
       " 'fsf-win-lap',\n",
       " 'hotidf-win-lap',\n",
       " 'irrec',\n",
       " 'mowv',\n",
       " 'ohl',\n",
       " 'osbs-win-lap',\n",
       " 'osbs-xxx-win-lap',\n",
       " 'pep',\n",
       " 'presAttic-wout-lap',\n",
       " 'presStairs-win-lap',\n",
       " 'reiOrangeBrew-win-lap',\n",
       " 'rl',\n",
       " 'rubygillhs-win-lap',\n",
       " 'soc-temp-lap',\n",
       " 'stzWlkwy-wout-lap',\n",
       " 'treeo-win-lap',\n",
       " 'uic-win-lap',\n",
       " 'unknown',\n",
       " 'weiclocktower-wout-lap',\n",
       " 'wrt']"
      ]
     },
     "execution_count": 229,
     "metadata": {},
     "output_type": "execute_result"
    }
   ],
   "source": [
    "unknownPrefixes"
   ]
  },
  {
   "cell_type": "code",
   "execution_count": 35,
   "metadata": {},
   "outputs": [
    {
     "data": {
      "text/plain": [
       "(18258287, 8)"
      ]
     },
     "execution_count": 35,
     "metadata": {},
     "output_type": "execute_result"
    }
   ],
   "source": [
    "#keep only valid prefixes (based on the prefix_lat_lon_name_category.csv table)\n",
    "#removes about 400k rows?\n",
    "dataLegalPrefixes = data[~data['prefix'].isin(unknownPrefixes)]\n",
    "dataLegalPrefixes.shape"
   ]
  },
  {
   "cell_type": "markdown",
   "metadata": {},
   "source": [
    "## Get information about each user (useful for prediction later)"
   ]
  },
  {
   "cell_type": "code",
   "execution_count": 113,
   "metadata": {},
   "outputs": [
    {
     "data": {
      "text/html": [
       "<div>\n",
       "<style scoped>\n",
       "    .dataframe tbody tr th:only-of-type {\n",
       "        vertical-align: middle;\n",
       "    }\n",
       "\n",
       "    .dataframe tbody tr th {\n",
       "        vertical-align: top;\n",
       "    }\n",
       "\n",
       "    .dataframe thead th {\n",
       "        text-align: right;\n",
       "    }\n",
       "</style>\n",
       "<table border=\"1\" class=\"dataframe\">\n",
       "  <thead>\n",
       "    <tr style=\"text-align: right;\">\n",
       "      <th></th>\n",
       "      <th>prefix</th>\n",
       "      <th>name</th>\n",
       "      <th>category</th>\n",
       "    </tr>\n",
       "  </thead>\n",
       "  <tbody>\n",
       "    <tr>\n",
       "      <th>0</th>\n",
       "      <td>aaf</td>\n",
       "      <td>Academic Advising Center</td>\n",
       "      <td>admin</td>\n",
       "    </tr>\n",
       "    <tr>\n",
       "      <th>1</th>\n",
       "      <td>adv</td>\n",
       "      <td>Martin H. Levin Advocacy Center</td>\n",
       "      <td>academic</td>\n",
       "    </tr>\n",
       "    <tr>\n",
       "      <th>2</th>\n",
       "      <td>aer</td>\n",
       "      <td>Mec. Aerospace Engineering</td>\n",
       "      <td>academic</td>\n",
       "    </tr>\n",
       "    <tr>\n",
       "      <th>3</th>\n",
       "      <td>aerv</td>\n",
       "      <td>Mec. Aerospace Engineering</td>\n",
       "      <td>academic</td>\n",
       "    </tr>\n",
       "    <tr>\n",
       "      <th>4</th>\n",
       "      <td>alf</td>\n",
       "      <td>Alfred A. Ring Tennis Pavilion</td>\n",
       "      <td>sports</td>\n",
       "    </tr>\n",
       "  </tbody>\n",
       "</table>\n",
       "</div>"
      ],
      "text/plain": [
       "  prefix                             name  category\n",
       "0    aaf         Academic Advising Center     admin\n",
       "1    adv  Martin H. Levin Advocacy Center  academic\n",
       "2    aer       Mec. Aerospace Engineering  academic\n",
       "3   aerv       Mec. Aerospace Engineering  academic\n",
       "4    alf   Alfred A. Ring Tennis Pavilion    sports"
      ]
     },
     "execution_count": 113,
     "metadata": {},
     "output_type": "execute_result"
    }
   ],
   "source": [
    "location_info = prefix_lat_lon[['prefix','name','category']]\n",
    "location_info.head()"
   ]
  },
  {
   "cell_type": "code",
   "execution_count": 110,
   "metadata": {},
   "outputs": [],
   "source": [
    "if loadPreprocessedData == False:\n",
    "    #can take ~30min\n",
    "    numUniqueUsers = max(data.userMAC)\n",
    "    print(\"Number of unique users:\", numUniqueUsers)\n",
    "    \n",
    "    PeopleForPred = []\n",
    "    #loop over all users\n",
    "    for i in range(numUniqueUsers):\n",
    "        if i % 200 == 0: #print for info since this takes a while\n",
    "            print(\"Percent Done:\", round(i/numUniqueUsers*100,2), \"Num people found so far:\", len(PeopleForPred))\n",
    "        userHistory = dataLegalPrefixes[dataLegalPrefixes.userMAC == i]\n",
    "\n",
    "        #remove irrelevant information (save space)\n",
    "        userHistory = userHistory[['startTime', 'endTime', 'userMAC', 'prefix']]\n",
    "        \n",
    "        #join the base table prefix with location info table (get building name for each prefix)\n",
    "        userHistory = userHistory.set_index('prefix').join(location_info.set_index('prefix'), on='prefix', how='inner')\n",
    "\n",
    "        # append info to list for persion userMAC i\n",
    "        PeopleForPred.append(userHistory)\n",
    "\n",
    "    #save data\n",
    "    with open('PeopleForPred_all.data', 'wb') as file:\n",
    "        pickle.dump(PeopleForPred, file)\n",
    "else:\n",
    "    with open('PeopleForPred_all.data', 'rb') as file:\n",
    "        PeopleForPred = pickle.load(file)"
   ]
  },
  {
   "cell_type": "code",
   "execution_count": 274,
   "metadata": {},
   "outputs": [
    {
     "name": "stdout",
     "output_type": "stream",
     "text": [
      "Num people: 86344 \n",
      "First user's info:\n",
      "          startTime     endTime  userMAC                  name  category\n",
      "prefix                                                                 \n",
      "nrn     1333414541  1333414544        0           Norman Hall  academic\n",
      "nrn     1333414544  1333472537        0           Norman Hall  academic\n",
      "nrn     1333472537  1333472550        0           Norman Hall  academic\n",
      "nrn     1333817492  1333817494        0           Norman Hall  academic\n",
      "nrn     1333817494  1333820183        0           Norman Hall  academic\n",
      "...            ...         ...      ...                   ...       ...\n",
      "nrn     1335409739  1335409763        0           Norman Hall  academic\n",
      "nrn     1335698909  1335698914        0           Norman Hall  academic\n",
      "nrna    1334283062  1334283064        0  Norman Hall Addition  academic\n",
      "nrna    1334286402  1334286403        0  Norman Hall Addition  academic\n",
      "nrna    1334287409  1334287410        0  Norman Hall Addition  academic\n",
      "\n",
      "[76 rows x 5 columns]\n"
     ]
    }
   ],
   "source": [
    "print(\"Num people:\", len(PeopleForPred), \"\\nFirst user's info:\\n\", PeopleForPred[0])"
   ]
  },
  {
   "cell_type": "code",
   "execution_count": 260,
   "metadata": {},
   "outputs": [
    {
     "name": "stdout",
     "output_type": "stream",
     "text": [
      "Average number of AP visits 211.4597308440656\n"
     ]
    }
   ],
   "source": [
    "#OPTIONAL\n",
    "#Subset the data so you only look at the people with sessions greater than X\n",
    "\n",
    "NumAP_Threshold = 2000 #min number of thresholds a user has to visit\n",
    "\n",
    "numAP_PerPerson = [len(PeopleForPred[i]) for i in range(len(PeopleForPred))]\n",
    "\n",
    "#Information\n",
    "avgNumAPVisits  = np.mean(np.asarray(numAP_PerPerson))\n",
    "print(\"Average number of AP visits\", avgNumAPVisits)"
   ]
  },
  {
   "cell_type": "markdown",
   "metadata": {},
   "source": [
    "## Bin all encounters into time intervals"
   ]
  },
  {
   "cell_type": "code",
   "execution_count": 281,
   "metadata": {},
   "outputs": [],
   "source": [
    "#bin all encounters into time intervals\n",
    "startTime = dataLegalPrefixes['startTime'].min()\n",
    "endTime   = dataLegalPrefixes['startTime'].max()"
   ]
  },
  {
   "cell_type": "code",
   "execution_count": 287,
   "metadata": {},
   "outputs": [],
   "source": [
    "#Make list of 5 min intervals\n",
    "pd.to_datetime(startTime, unit='s'), pd.to_datetime(startTime+60*5, unit='s')\n",
    "\n",
    "timeInterval  = 5 #given in minutes\n",
    "timeIntervals = [startTime]\n",
    "tempTime      = startTime\n",
    "while tempTime < endTime:\n",
    "    nextTime = tempTime + 60*5\n",
    "    timeIntervals.append(nextTime)\n",
    "    tempTime = nextTime"
   ]
  },
  {
   "cell_type": "code",
   "execution_count": 289,
   "metadata": {},
   "outputs": [
    {
     "data": {
      "text/plain": [
       "(Timestamp('2012-04-01 00:04:42'),\n",
       " Timestamp('2012-04-01 00:09:42'),\n",
       " Timestamp('2012-04-01 00:14:42'))"
      ]
     },
     "execution_count": 289,
     "metadata": {},
     "output_type": "execute_result"
    }
   ],
   "source": [
    "pd.to_datetime(timeIntervals[0], unit='s'), pd.to_datetime(timeIntervals[1], unit='s'), pd.to_datetime(timeIntervals[2], unit='s')"
   ]
  },
  {
   "cell_type": "code",
   "execution_count": null,
   "metadata": {},
   "outputs": [],
   "source": [
    "#TODO: Populate these 5 min bins with information about what the user is doing (e.g. what building r they in?)"
   ]
  },
  {
   "cell_type": "code",
   "execution_count": null,
   "metadata": {},
   "outputs": [],
   "source": [
    "from bisect import bisect_left\n",
    "#https://stackoverflow.com/questions/12141150/from-list-of-integers-get-number-closest-to-a-given-value\n",
    "def take_closest(myList, myNumber):\n",
    "    \"\"\"\n",
    "    Assumes myList is sorted. Returns closest value to myNumber.\n",
    "\n",
    "    If two numbers are equally close, return the smallest number.\n",
    "    \"\"\"\n",
    "    pos = bisect_left(myList, myNumber)\n",
    "    if pos == 0:\n",
    "        return myList[0]\n",
    "    if pos == len(myList):\n",
    "        return myList[-1]\n",
    "    before = myList[pos - 1]\n",
    "    after = myList[pos]\n",
    "    if after - myNumber < myNumber - before:\n",
    "       return after\n",
    "    else:\n",
    "       return before"
   ]
  },
  {
   "cell_type": "code",
   "execution_count": 290,
   "metadata": {},
   "outputs": [
    {
     "data": {
      "text/html": [
       "<div>\n",
       "<style scoped>\n",
       "    .dataframe tbody tr th:only-of-type {\n",
       "        vertical-align: middle;\n",
       "    }\n",
       "\n",
       "    .dataframe tbody tr th {\n",
       "        vertical-align: top;\n",
       "    }\n",
       "\n",
       "    .dataframe thead th {\n",
       "        text-align: right;\n",
       "    }\n",
       "</style>\n",
       "<table border=\"1\" class=\"dataframe\">\n",
       "  <thead>\n",
       "    <tr style=\"text-align: right;\">\n",
       "      <th></th>\n",
       "      <th>startTime</th>\n",
       "      <th>endTime</th>\n",
       "      <th>userMAC</th>\n",
       "      <th>name</th>\n",
       "      <th>category</th>\n",
       "    </tr>\n",
       "    <tr>\n",
       "      <th>prefix</th>\n",
       "      <th></th>\n",
       "      <th></th>\n",
       "      <th></th>\n",
       "      <th></th>\n",
       "      <th></th>\n",
       "    </tr>\n",
       "  </thead>\n",
       "  <tbody>\n",
       "    <tr>\n",
       "      <th>nrn</th>\n",
       "      <td>1333414541</td>\n",
       "      <td>1333414544</td>\n",
       "      <td>0</td>\n",
       "      <td>Norman Hall</td>\n",
       "      <td>academic</td>\n",
       "    </tr>\n",
       "    <tr>\n",
       "      <th>nrn</th>\n",
       "      <td>1333414544</td>\n",
       "      <td>1333472537</td>\n",
       "      <td>0</td>\n",
       "      <td>Norman Hall</td>\n",
       "      <td>academic</td>\n",
       "    </tr>\n",
       "    <tr>\n",
       "      <th>nrn</th>\n",
       "      <td>1333472537</td>\n",
       "      <td>1333472550</td>\n",
       "      <td>0</td>\n",
       "      <td>Norman Hall</td>\n",
       "      <td>academic</td>\n",
       "    </tr>\n",
       "    <tr>\n",
       "      <th>nrn</th>\n",
       "      <td>1333817492</td>\n",
       "      <td>1333817494</td>\n",
       "      <td>0</td>\n",
       "      <td>Norman Hall</td>\n",
       "      <td>academic</td>\n",
       "    </tr>\n",
       "    <tr>\n",
       "      <th>nrn</th>\n",
       "      <td>1333817494</td>\n",
       "      <td>1333820183</td>\n",
       "      <td>0</td>\n",
       "      <td>Norman Hall</td>\n",
       "      <td>academic</td>\n",
       "    </tr>\n",
       "    <tr>\n",
       "      <th>...</th>\n",
       "      <td>...</td>\n",
       "      <td>...</td>\n",
       "      <td>...</td>\n",
       "      <td>...</td>\n",
       "      <td>...</td>\n",
       "    </tr>\n",
       "    <tr>\n",
       "      <th>nrn</th>\n",
       "      <td>1335409739</td>\n",
       "      <td>1335409763</td>\n",
       "      <td>0</td>\n",
       "      <td>Norman Hall</td>\n",
       "      <td>academic</td>\n",
       "    </tr>\n",
       "    <tr>\n",
       "      <th>nrn</th>\n",
       "      <td>1335698909</td>\n",
       "      <td>1335698914</td>\n",
       "      <td>0</td>\n",
       "      <td>Norman Hall</td>\n",
       "      <td>academic</td>\n",
       "    </tr>\n",
       "    <tr>\n",
       "      <th>nrna</th>\n",
       "      <td>1334283062</td>\n",
       "      <td>1334283064</td>\n",
       "      <td>0</td>\n",
       "      <td>Norman Hall Addition</td>\n",
       "      <td>academic</td>\n",
       "    </tr>\n",
       "    <tr>\n",
       "      <th>nrna</th>\n",
       "      <td>1334286402</td>\n",
       "      <td>1334286403</td>\n",
       "      <td>0</td>\n",
       "      <td>Norman Hall Addition</td>\n",
       "      <td>academic</td>\n",
       "    </tr>\n",
       "    <tr>\n",
       "      <th>nrna</th>\n",
       "      <td>1334287409</td>\n",
       "      <td>1334287410</td>\n",
       "      <td>0</td>\n",
       "      <td>Norman Hall Addition</td>\n",
       "      <td>academic</td>\n",
       "    </tr>\n",
       "  </tbody>\n",
       "</table>\n",
       "<p>76 rows × 5 columns</p>\n",
       "</div>"
      ],
      "text/plain": [
       "         startTime     endTime  userMAC                  name  category\n",
       "prefix                                                                 \n",
       "nrn     1333414541  1333414544        0           Norman Hall  academic\n",
       "nrn     1333414544  1333472537        0           Norman Hall  academic\n",
       "nrn     1333472537  1333472550        0           Norman Hall  academic\n",
       "nrn     1333817492  1333817494        0           Norman Hall  academic\n",
       "nrn     1333817494  1333820183        0           Norman Hall  academic\n",
       "...            ...         ...      ...                   ...       ...\n",
       "nrn     1335409739  1335409763        0           Norman Hall  academic\n",
       "nrn     1335698909  1335698914        0           Norman Hall  academic\n",
       "nrna    1334283062  1334283064        0  Norman Hall Addition  academic\n",
       "nrna    1334286402  1334286403        0  Norman Hall Addition  academic\n",
       "nrna    1334287409  1334287410        0  Norman Hall Addition  academic\n",
       "\n",
       "[76 rows x 5 columns]"
      ]
     },
     "execution_count": 290,
     "metadata": {},
     "output_type": "execute_result"
    }
   ],
   "source": [
    "#---WORK IN PROGRESS--- DON'T RUN THIS.T\n",
    "#For each person, construct an array of where they are every 5 min\n",
    "PeopleForPred[0]\n",
    "\n",
    "#loop over all sessions for a user\n",
    "for i in range(len(PeopleForPred[0])):\n",
    "    #find closest element in array\n",
    "    take_closest(timeIntervals, PeopleForPred[0].startTime[i])"
   ]
  },
  {
   "cell_type": "markdown",
   "metadata": {},
   "source": [
    "# Markov Chain"
   ]
  },
  {
   "cell_type": "code",
   "execution_count": null,
   "metadata": {},
   "outputs": [],
   "source": [
    "#predict for each user, where will they go next?\n",
    "# *** predict across all users, where will an arbitrary person go next?\n",
    "\n",
    "#Question: constrain the prediction of each user to be based only on where they've been before?\n",
    "#Question: if not, assume that being in each building is equally likely?\n",
    "\n",
    "#TODO: 5 min sampling of time bins\n",
    "#TODO: 0 pad when they're not connected\n",
    "#TODO: make transition matrix look pretty?"
   ]
  },
  {
   "cell_type": "code",
   "execution_count": 300,
   "metadata": {},
   "outputs": [],
   "source": [
    "def MakeTransitionMatrix(history):\n",
    "#      Input: DataArray - array of length N of integers that belong to 1 of C classes\n",
    "#      Output: TransMat - is a right stochastic matrix (each row sums to 1)\n",
    "#                         Each entry of TransMat(i,j) represents the probability\n",
    "#                         of going from label i to label j\n",
    "    NumTimeSteps  = len(history)\n",
    "    NumComponents = np.max(history)\n",
    "    \n",
    "    #Pre-allocate transition matrix\n",
    "    TransMat = np.zeros((NumComponents+1, NumComponents+1)) #+1 because 0-indexed\n",
    "\n",
    "    for i in range(NumTimeSteps-1):\n",
    "        Current = history[i]\n",
    "        Next    = history[i+1]\n",
    "        TransMat[Current, Next] = TransMat[Current, Next] + 1\n",
    "        \n",
    "    #Normalize rows\n",
    "    TransMat = TransMat/np.sum(TransMat,1)[:,None] #broadcast vector for normalization by rows\n",
    "    return TransMat"
   ]
  },
  {
   "cell_type": "code",
   "execution_count": 301,
   "metadata": {},
   "outputs": [],
   "source": [
    "def FindNextState(TransMat, state, loc_dict, plotNextStateProb=False):\n",
    "    #assume state is 0-indexed\n",
    "    rand = np.random.random()\n",
    "    \n",
    "    #Make cdf of transitioning out of a given state\n",
    "    cdf = np.cumsum(TransMat[state])    \n",
    "\n",
    "    #find first state above random number on cdf\n",
    "    nextState = np.where(cdf > rand)[0][0]\n",
    "    \n",
    "    if plotNextStateProb: #plot cdf and probability of transitioning\n",
    "        StateSize = len(TransMat)\n",
    "        plt.figure(dpi=100)\n",
    "        plt.plot(np.insert(cdf, 0, 0))\n",
    "        plt.title(\"Cumulative Distribution function\" + \" - Chose state \" + str(nextState) + ' ' + loc_dict[nextState])\n",
    "        plt.axhline(rand, c='red')\n",
    "        for i in range(StateSize):\n",
    "            plt.axvline(i, c='k')\n",
    "        plt.show()\n",
    "    \n",
    "    return nextState"
   ]
  },
  {
   "cell_type": "code",
   "execution_count": 302,
   "metadata": {},
   "outputs": [],
   "source": [
    "def PredictFutureSteps(TransMat, MostRecentState, bldg_dict, NumFutureSteps, PlotCDF=False):\n",
    "    nextStates  = []\n",
    "    nextBldgs   = []\n",
    "    currState   = MostRecentState\n",
    "    for i in range(NumFutureSteps):\n",
    "        nextState = FindNextState(TransMat, currState, bldg_dict, PlotCDF)\n",
    "        #print(\"\\nNext state\", bldg_dict[nextState])\n",
    "        nextStates.append(nextState)\n",
    "        nextBldgs.append(bldg_dict[nextState])\n",
    "        currState = nextState\n",
    "\n",
    "    #print(\"Next states array:\", nextStates)\n",
    "    #print(\"Next buildings array:\", nextBldgs)\n",
    "    return nextStates, nextBldgs"
   ]
  },
  {
   "cell_type": "markdown",
   "metadata": {},
   "source": [
    "## Toy example for Markov Chain"
   ]
  },
  {
   "cell_type": "code",
   "execution_count": 303,
   "metadata": {
    "scrolled": true
   },
   "outputs": [
    {
     "name": "stdout",
     "output_type": "stream",
     "text": [
      "TransMat:\n",
      " [[0.5        0.5        0.         0.        ]\n",
      " [0.2        0.2        0.6        0.        ]\n",
      " [0.16666667 0.16666667 0.16666667 0.5       ]\n",
      " [0.         0.33333333 0.66666667 0.        ]]\n"
     ]
    },
    {
     "data": {
      "text/plain": [
       "([0, 0, 0, 0, 1],\n",
       " ['Not Connected', 'Not Connected', 'Not Connected', 'Not Connected', 'hub'])"
      ]
     },
     "execution_count": 303,
     "metadata": {},
     "output_type": "execute_result"
    }
   ],
   "source": [
    "# demo of a Markov chain predictor\n",
    "\n",
    "#Toy data\n",
    "bldg_dict = {0: 'Not Connected', \n",
    "             1: 'hub',\n",
    "             2: 'reitz',\n",
    "             3: 'lib west'}\n",
    "\n",
    "personHistory = np.array([0,0,0,1,1,2,2,1,2,3,2,3,2,3,1,2,0,1,0])\n",
    "\n",
    "#Make transition matrix\n",
    "TransMat = MakeTransitionMatrix(personHistory)\n",
    "print(\"TransMat:\\n\", TransMat)\n",
    "\n",
    "#Predict future steps based on their most recent history\n",
    "NumFutureSteps  = 5\n",
    "MostRecentState = personHistory[-1]\n",
    "nextSteps, nextBldgs = PredictFutureSteps(TransMat, MostRecentState, bldg_dict, NumFutureSteps, PlotCDF=False)\n",
    "nextSteps, nextBldgs"
   ]
  },
  {
   "cell_type": "code",
   "execution_count": 278,
   "metadata": {},
   "outputs": [
    {
     "data": {
      "text/plain": [
       "2"
      ]
     },
     "execution_count": 278,
     "metadata": {},
     "output_type": "execute_result"
    }
   ],
   "source": [
    "#map the buildings to an index\n",
    "bldg_dict = {i: location_info['prefix'].iloc[i] for i in range(len(location_info))}\n",
    "keyOfBldg = list(bldg_dict.values()).index('aer')\n",
    "#TODO: apply MC to actual data"
   ]
  },
  {
   "cell_type": "code",
   "execution_count": null,
   "metadata": {},
   "outputs": [],
   "source": []
  }
 ],
 "metadata": {
  "kernelspec": {
   "display_name": "Python 3",
   "language": "python",
   "name": "python3"
  },
  "language_info": {
   "codemirror_mode": {
    "name": "ipython",
    "version": 3
   },
   "file_extension": ".py",
   "mimetype": "text/x-python",
   "name": "python",
   "nbconvert_exporter": "python",
   "pygments_lexer": "ipython3",
   "version": "3.7.6"
  },
  "metadata": {
   "interpreter": {
    "hash": "d262b3cf53436df4d43148531b8b8c13029e50250a57d118b8471bcdaf78eff0"
   }
  }
 },
 "nbformat": 4,
 "nbformat_minor": 2
}
