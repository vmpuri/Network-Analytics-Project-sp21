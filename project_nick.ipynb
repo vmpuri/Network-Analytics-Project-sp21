{
 "cells": [
  {
   "cell_type": "markdown",
   "metadata": {},
   "source": [
    "# Network Analytics Project"
   ]
  },
  {
   "cell_type": "code",
   "execution_count": 76,
   "metadata": {},
   "outputs": [
    {
     "name": "stdout",
     "output_type": "stream",
     "text": [
      "Project: CIS6930 Network Analytics & Machine Learning\n",
      "Group Members: ['Pankaj Chand', 'Keith Levengood', 'Nicholas Kroeger', 'Varun Puri']\n",
      "\n",
      "Library Versions\n",
      "### Python version: 3.7.6 (default, Jan  8 2020, 13:42:34) \n",
      "[Clang 4.0.1 (tags/RELEASE_401/final)]\n",
      "### Pandas Version: 1.2.2\n",
      "### MatPlotLib version:3.3.4\n",
      "------------\n"
     ]
    }
   ],
   "source": [
    "group_members=['Pankaj Chand', 'Keith Levengood', 'Nicholas Kroeger', 'Varun Puri']\n",
    "print('Project: CIS6930 Network Analytics & Machine Learning')\n",
    "print('Group Members:', group_members)\n",
    "\n",
    "import pandas as pd\n",
    "import matplotlib\n",
    "import matplotlib.pyplot as plt\n",
    "import numpy as np\n",
    "from os import listdir\n",
    "from datetime import datetime\n",
    "import pickle\n",
    "\n",
    "print('\\nLibrary Versions')\n",
    "print('### Python version: ' + __import__('sys').version)\n",
    "print('### Pandas Version: ' + pd.__version__)\n",
    "print('### MatPlotLib version:' + matplotlib.__version__)\n",
    "print('------------')"
   ]
  },
  {
   "cell_type": "markdown",
   "metadata": {},
   "source": [
    "# Load in data"
   ]
  },
  {
   "cell_type": "code",
   "execution_count": 3,
   "metadata": {},
   "outputs": [],
   "source": [
    "import itertools\n",
    "\n",
    "# Helper function to get the prefix of each APNAME \n",
    "def convertAPNameToPrefix(df):\n",
    "    prefixes = []\n",
    "    for i in range(len(df)):\n",
    "        tempPrefix = [\"\".join(x) for _, x in itertools.groupby(df.iloc[i], key=str.isdigit)][0]\n",
    "        prefixes.append(tempPrefix)\n",
    "    return prefixes"
   ]
  },
  {
   "cell_type": "code",
   "execution_count": 4,
   "metadata": {},
   "outputs": [],
   "source": [
    "loadPreprocessedData = True"
   ]
  },
  {
   "cell_type": "code",
   "execution_count": 5,
   "metadata": {},
   "outputs": [],
   "source": [
    "if loadPreprocessedData == False:\n",
    "    #load in csv, append APNAME to end of dataframe, save it out as .pkl\n",
    "    data = pd.read_csv('DHCP_April_2012_ANON_MAC_devType.csv')\n",
    "    print(\"loaded first dataframe\")\n",
    "    \n",
    "    print(\"Appending prefix name to table... will take a few minutes\")\n",
    "    \n",
    "    prefixes_col   = convertAPNameToPrefix(data['APNAME'])\n",
    "    data['prefix'] = prefixes_col\n",
    "    \n",
    "    print(\"Saving out new dataframe to .pkl file\")\n",
    "    data.to_pickle(\"./DHCP_April_2012_ANON_MAC_devType_wAPNAME.pkl\")\n",
    "else:\n",
    "    #load in preprecossed data\n",
    "    data = pd.read_pickle(\"./DHCP_April_2012_ANON_MAC_devType_wAPNAME.pkl\")"
   ]
  },
  {
   "cell_type": "markdown",
   "metadata": {},
   "source": [
    "# Look at the data"
   ]
  },
  {
   "cell_type": "code",
   "execution_count": 28,
   "metadata": {},
   "outputs": [
    {
     "data": {
      "text/plain": [
       "(           userIP  userMAC                APNAME              APMAC  \\\n",
       " 0   10.131.172.58    26257  fli113-win-lap3502-1  44:e4:d9:00:ed:e0   \n",
       " 1        10.0.1.3    22699  hrb112-win-lap1231-1  00:1a:a2:09:93:90   \n",
       " 2  10.132.190.205    30264  soc1402-temp-lap3502  58:35:d9:d5:cd:c0   \n",
       " 3  10.130.146.252    72815  soc1402-temp-lap3502  58:35:d9:d5:cd:c0   \n",
       " 4   10.130.248.68    69249               unknown  00:00:00:00:00:00   \n",
       " \n",
       "     startTime     endTime deviceType   prefix  \n",
       " 0  1333238682  1333238682          f      fli  \n",
       " 1  1333238682  1333238687    unknown      hrb  \n",
       " 2  1333238685  1333238687          f      soc  \n",
       " 3  1333238688  1333238688          f      soc  \n",
       " 4  1333238690  1333238690          f  unknown  ,\n",
       " (22821939, 8))"
      ]
     },
     "execution_count": 28,
     "metadata": {},
     "output_type": "execute_result"
    }
   ],
   "source": [
    "data.head(), data.shape"
   ]
  },
  {
   "cell_type": "code",
   "execution_count": 6,
   "metadata": {},
   "outputs": [
    {
     "name": "stdout",
     "output_type": "stream",
     "text": [
      "2012-04-01 00:04:41\n",
      "2012-05-01 00:05:20\n"
     ]
    },
    {
     "data": {
      "text/plain": [
       "<AxesSubplot:>"
      ]
     },
     "execution_count": 6,
     "metadata": {},
     "output_type": "execute_result"
    },
    {
     "data": {
      "image/png": "[encoded data removed]",
      "text/plain": [
       "<Figure size 432x288 with 1 Axes>"
      ]
     },
     "metadata": {
      "needs_background": "light"
     },
     "output_type": "display_data"
    }
   ],
   "source": [
    "print(pd.to_datetime(data['startTime'].min(), unit='s'))\n",
    "print(pd.to_datetime(data['endTime'].max(), unit='s'))\n",
    "data['startTime'].hist(bins=1000)\n",
    "data['endTime'].hist(bins=1000)"
   ]
  },
  {
   "cell_type": "markdown",
   "metadata": {},
   "source": [
    "# Load in prefix and building information"
   ]
  },
  {
   "cell_type": "code",
   "execution_count": 7,
   "metadata": {
    "scrolled": false
   },
   "outputs": [],
   "source": [
    "prefix_lat_lon = pd.read_csv('prefix_lat_lon_name_category.csv')\n",
    "legalPrefixes = prefix_lat_lon.prefix"
   ]
  },
  {
   "cell_type": "code",
   "execution_count": 24,
   "metadata": {},
   "outputs": [
    {
     "data": {
      "text/plain": [
       "0     aaf\n",
       "1     adv\n",
       "2     aer\n",
       "3    aerv\n",
       "4     alf\n",
       "Name: prefix, dtype: object"
      ]
     },
     "execution_count": 24,
     "metadata": {},
     "output_type": "execute_result"
    }
   ],
   "source": [
    "legalPrefixes.head()"
   ]
  },
  {
   "cell_type": "markdown",
   "metadata": {},
   "source": [
    "# Clean the data"
   ]
  },
  {
   "cell_type": "code",
   "execution_count": 227,
   "metadata": {},
   "outputs": [],
   "source": [
    "#prefixes found from our preprocessing function\n",
    "prefixesFound = np.unique(data.prefix)"
   ]
  },
  {
   "cell_type": "code",
   "execution_count": 228,
   "metadata": {},
   "outputs": [],
   "source": [
    "#prefixes in the base table that don't match in the prefix table \n",
    "#TODO: more preprocessing to keep some of these?\n",
    "unknownPrefixes = list(np.setdiff1d(prefixesFound, np.asarray(legalPrefixes)))"
   ]
  },
  {
   "cell_type": "code",
   "execution_count": 229,
   "metadata": {},
   "outputs": [
    {
     "data": {
      "text/plain": [
       "['AP',\n",
       " 'APc',\n",
       " 'APe',\n",
       " 'APf',\n",
       " 'apopka-win-lap',\n",
       " 'b',\n",
       " 'broEastOIR-win-lap',\n",
       " 'broOIR-EB',\n",
       " 'bwcbookstore-win-lap',\n",
       " 'carATTIC-win-lap',\n",
       " 'carATTIC-wout-lap',\n",
       " 'cba-ftlauderdale-win-lap',\n",
       " 'crecxxxrxx-win-lap',\n",
       " 'ctx',\n",
       " 'dairy-win-lap',\n",
       " 'dauxxx-win-lap',\n",
       " 'dinefreshfood-win-lap',\n",
       " 'escv',\n",
       " 'fsf-win-lap',\n",
       " 'hotidf-win-lap',\n",
       " 'irrec',\n",
       " 'mowv',\n",
       " 'ohl',\n",
       " 'osbs-win-lap',\n",
       " 'osbs-xxx-win-lap',\n",
       " 'pep',\n",
       " 'presAttic-wout-lap',\n",
       " 'presStairs-win-lap',\n",
       " 'reiOrangeBrew-win-lap',\n",
       " 'rl',\n",
       " 'rubygillhs-win-lap',\n",
       " 'soc-temp-lap',\n",
       " 'stzWlkwy-wout-lap',\n",
       " 'treeo-win-lap',\n",
       " 'uic-win-lap',\n",
       " 'unknown',\n",
       " 'weiclocktower-wout-lap',\n",
       " 'wrt']"
      ]
     },
     "execution_count": 229,
     "metadata": {},
     "output_type": "execute_result"
    }
   ],
   "source": [
    "unknownPrefixes"
   ]
  },
  {
   "cell_type": "code",
   "execution_count": 35,
   "metadata": {},
   "outputs": [
    {
     "data": {
      "text/plain": [
       "(18258287, 8)"
      ]
     },
     "execution_count": 35,
     "metadata": {},
     "output_type": "execute_result"
    }
   ],
   "source": [
    "#keep only valid prefixes (based on the prefix_lat_lon_name_category.csv table)\n",
    "#removes about 400k rows?\n",
    "dataLegalPrefixes = data[~data['prefix'].isin(unknownPrefixes)]\n",
    "dataLegalPrefixes.shape"
   ]
  },
  {
   "cell_type": "markdown",
   "metadata": {},
   "source": [
    "## Get information about each user (useful for prediction later)"
   ]
  },
  {
   "cell_type": "code",
   "execution_count": 113,
   "metadata": {},
   "outputs": [
    {
     "data": {
      "text/html": [
       "<div>\n",
       "<style scoped>\n",
       "    .dataframe tbody tr th:only-of-type {\n",
       "        vertical-align: middle;\n",
       "    }\n",
       "\n",
       "    .dataframe tbody tr th {\n",
       "        vertical-align: top;\n",
       "    }\n",
       "\n",
       "    .dataframe thead th {\n",
       "        text-align: right;\n",
       "    }\n",
       "</style>\n",
       "<table border=\"1\" class=\"dataframe\">\n",
       "  <thead>\n",
       "    <tr style=\"text-align: right;\">\n",
       "      <th></th>\n",
       "      <th>prefix</th>\n",
       "      <th>name</th>\n",
       "      <th>category</th>\n",
       "    </tr>\n",
       "  </thead>\n",
       "  <tbody>\n",
       "    <tr>\n",
       "      <th>0</th>\n",
       "      <td>aaf</td>\n",
       "      <td>Academic Advising Center</td>\n",
       "      <td>admin</td>\n",
       "    </tr>\n",
       "    <tr>\n",
       "      <th>1</th>\n",
       "      <td>adv</td>\n",
       "      <td>Martin H. Levin Advocacy Center</td>\n",
       "      <td>academic</td>\n",
       "    </tr>\n",
       "    <tr>\n",
       "      <th>2</th>\n",
       "      <td>aer</td>\n",
       "      <td>Mec. Aerospace Engineering</td>\n",
       "      <td>academic</td>\n",
       "    </tr>\n",
       "    <tr>\n",
       "      <th>3</th>\n",
       "      <td>aerv</td>\n",
       "      <td>Mec. Aerospace Engineering</td>\n",
       "      <td>academic</td>\n",
       "    </tr>\n",
       "    <tr>\n",
       "      <th>4</th>\n",
       "      <td>alf</td>\n",
       "      <td>Alfred A. Ring Tennis Pavilion</td>\n",
       "      <td>sports</td>\n",
       "    </tr>\n",
       "  </tbody>\n",
       "</table>\n",
       "</div>"
      ],
      "text/plain": [
       "  prefix                             name  category\n",
       "0    aaf         Academic Advising Center     admin\n",
       "1    adv  Martin H. Levin Advocacy Center  academic\n",
       "2    aer       Mec. Aerospace Engineering  academic\n",
       "3   aerv       Mec. Aerospace Engineering  academic\n",
       "4    alf   Alfred A. Ring Tennis Pavilion    sports"
      ]
     },
     "execution_count": 113,
     "metadata": {},
     "output_type": "execute_result"
    }
   ],
   "source": [
    "location_info = prefix_lat_lon[['prefix','name','category']]\n",
    "location_info.head()"
   ]
  },
  {
   "cell_type": "code",
   "execution_count": 110,
   "metadata": {},
   "outputs": [],
   "source": [
    "if loadPreprocessedData == False:\n",
    "    #can take ~30min\n",
    "    numUniqueUsers = max(data.userMAC)\n",
    "    print(\"Number of unique users:\", numUniqueUsers)\n",
    "    \n",
    "    PeopleForPred = []\n",
    "    #loop over all users\n",
    "    for i in range(numUniqueUsers):\n",
    "        if i % 200 == 0: #print for info since this takes a while\n",
    "            print(\"Percent Done:\", round(i/numUniqueUsers*100,2), \"Num people found so far:\", len(PeopleForPred))\n",
    "        userHistory = dataLegalPrefixes[dataLegalPrefixes.userMAC == i]\n",
    "\n",
    "        #remove irrelevant information (save space)\n",
    "        userHistory = userHistory[['startTime', 'endTime', 'userMAC', 'prefix']]\n",
    "        \n",
    "        #join the base table prefix with location info table (get building name for each prefix)\n",
    "        userHistory = userHistory.set_index('prefix').join(location_info.set_index('prefix'), on='prefix', how='inner')\n",
    "\n",
    "        # append info to list for persion userMAC i\n",
    "        PeopleForPred.append(userHistory)\n",
    "\n",
    "    #save data\n",
    "    with open('PeopleForPred_all.data', 'wb') as file:\n",
    "        pickle.dump(PeopleForPred, file)\n",
    "else:\n",
    "    with open('PeopleForPred_all.data', 'rb') as file:\n",
    "        PeopleForPred = pickle.load(file)"
   ]
  },
  {
   "cell_type": "code",
   "execution_count": 112,
   "metadata": {},
   "outputs": [
    {
     "name": "stdout",
     "output_type": "stream",
     "text": [
      "Num people: 86344 \n",
      "First user's info:\n",
      "          startTime     endTime  userMAC         name  category\n",
      "prefix                                                        \n",
      "nrn     1334926411  1334926805        1  Norman Hall  academic\n"
     ]
    }
   ],
   "source": [
    "print(\"Num people:\", len(PeopleForPred), \"\\nFirst user's info:\\n\", PeopleForPred[1])"
   ]
  },
  {
   "cell_type": "code",
   "execution_count": null,
   "metadata": {},
   "outputs": [],
   "source": [
    "NumAP_Threshold = 100 #min number of thresholds a user has to visit "
   ]
  },
  {
   "cell_type": "code",
   "execution_count": null,
   "metadata": {},
   "outputs": [],
   "source": []
  },
  {
   "cell_type": "code",
   "execution_count": null,
   "metadata": {},
   "outputs": [],
   "source": []
  },
  {
   "cell_type": "markdown",
   "metadata": {},
   "source": [
    "# Markov Chain"
   ]
  },
  {
   "cell_type": "code",
   "execution_count": null,
   "metadata": {},
   "outputs": [],
   "source": [
    "#predict for each user, where will they go next?\n",
    "#predict across all users, where will an arbitrary person go next?\n",
    "\n",
    "#Question: constrain the prediction of each user to be based only on where they've been before?\n",
    "#Question: if not, assume that being in each building is equally likely?"
   ]
  },
  {
   "cell_type": "code",
   "execution_count": 172,
   "metadata": {},
   "outputs": [],
   "source": [
    "def MakeTransitionMatrix(history):\n",
    "#      Input: DataArray - array of length N of integers that belong to 1 of C classes\n",
    "#      Output: TransMat - is a right stochastic matrix (each row sums to 1)\n",
    "#                         Each entry of TransMat(i,j) represents the probability\n",
    "#                         of going from label i to label j\n",
    "    NumTimeSteps  = len(history)\n",
    "    NumComponents = np.max(history)\n",
    "    \n",
    "    #Pre-allocate transition matrix\n",
    "    TransMat = np.zeros((NumComponents+1, NumComponents+1)) #+1 because 0-indexed\n",
    "\n",
    "    for i in range(NumTimeSteps-1):\n",
    "        Current = history[i]\n",
    "        Next    = history[i+1]\n",
    "        TransMat[Current, Next] = TransMat[Current, Next] + 1\n",
    "        \n",
    "    #Normalize rows\n",
    "    TransMat = TransMat/np.sum(TransMat,1)[:,None] #broadcast vector for normalization by rows\n",
    "    return TransMat"
   ]
  },
  {
   "cell_type": "code",
   "execution_count": 215,
   "metadata": {},
   "outputs": [],
   "source": [
    "def FindNextState(TransMat, state, loc_dict, plotNextStateProb=False):\n",
    "    #assume state is 0-indexed\n",
    "    rand = np.random.random()\n",
    "    \n",
    "    #Make cdf of transitioning out of a given state\n",
    "    cdf = np.cumsum(TransMat[state])    \n",
    "\n",
    "    #find first state above random number on cdf\n",
    "    nextState = np.where(cdf > rand)[0][0]\n",
    "    \n",
    "    if plotNextStateProb: #plot cdf and probability of transitioning\n",
    "        StateSize = len(TransMat)\n",
    "        plt.figure(dpi=100)\n",
    "        plt.plot(np.insert(cdf, 0, 0))\n",
    "        plt.title(\"Cumulative Distribution function\" + \" - Chose state \" + str(nextState) + ' ' + loc_dict[nextState])\n",
    "        plt.axhline(rand, c='red')\n",
    "        for i in range(StateSize):\n",
    "            plt.axvline(i, c='k')\n",
    "        plt.show()\n",
    "    \n",
    "    return nextState"
   ]
  },
  {
   "cell_type": "code",
   "execution_count": 216,
   "metadata": {},
   "outputs": [],
   "source": []
  },
  {
   "cell_type": "code",
   "execution_count": 217,
   "metadata": {},
   "outputs": [],
   "source": []
  },
  {
   "cell_type": "code",
   "execution_count": null,
   "metadata": {},
   "outputs": [],
   "source": [
    "def PredictFutureSteps(TransMat, MostRecentState, bldg_dict, NumFutureSteps, PlotCDF=False):\n",
    "    nextStates  = []\n",
    "    nextBldgs   = []\n",
    "    currState   = MostRecentState\n",
    "    for i in range(NumFutureSteps):\n",
    "        nextState = FindNextState(TransMat, currState, bldg_dict, PlotCDF)\n",
    "        print(\"\\nNext state\", bldg_dict[nextState])\n",
    "        nextStates.append(nextState)\n",
    "        nextBldgs.append(bldg_dict[nextState])\n",
    "        currState = nextState\n",
    "\n",
    "    print(\"Next states array:\", nextStates)\n",
    "    print(\"Next buildings array:\", nextBldgs)\n",
    "    return nextStates, nextBldgs"
   ]
  },
  {
   "cell_type": "code",
   "execution_count": 225,
   "metadata": {
    "scrolled": false
   },
   "outputs": [
    {
     "name": "stdout",
     "output_type": "stream",
     "text": [
      "TransMat:\n",
      " [[0.5        0.5        0.         0.        ]\n",
      " [0.2        0.2        0.6        0.        ]\n",
      " [0.16666667 0.16666667 0.16666667 0.5       ]\n",
      " [0.         0.33333333 0.66666667 0.        ]]\n"
     ]
    },
    {
     "data": {
      "image/png": "[encoded data removed]",
      "text/plain": [
       "<Figure size 600x400 with 1 Axes>"
      ]
     },
     "metadata": {
      "needs_background": "light"
     },
     "output_type": "display_data"
    },
    {
     "name": "stdout",
     "output_type": "stream",
     "text": [
      "\n",
      "Next state marston\n"
     ]
    },
    {
     "data": {
      "image/png": "[encoded data removed]",
      "text/plain": [
       "<Figure size 600x400 with 1 Axes>"
      ]
     },
     "metadata": {
      "needs_background": "light"
     },
     "output_type": "display_data"
    },
    {
     "name": "stdout",
     "output_type": "stream",
     "text": [
      "\n",
      "Next state hub\n"
     ]
    },
    {
     "data": {
      "image/png": "[encoded data removed]",
      "text/plain": [
       "<Figure size 600x400 with 1 Axes>"
      ]
     },
     "metadata": {
      "needs_background": "light"
     },
     "output_type": "display_data"
    },
    {
     "name": "stdout",
     "output_type": "stream",
     "text": [
      "\n",
      "Next state reitz\n"
     ]
    },
    {
     "data": {
      "image/png": "[encoded data removed]",
      "text/plain": [
       "<Figure size 600x400 with 1 Axes>"
      ]
     },
     "metadata": {
      "needs_background": "light"
     },
     "output_type": "display_data"
    },
    {
     "name": "stdout",
     "output_type": "stream",
     "text": [
      "\n",
      "Next state lib west\n"
     ]
    },
    {
     "data": {
      "image/png": "[encoded data removed]",
      "text/plain": [
       "<Figure size 600x400 with 1 Axes>"
      ]
     },
     "metadata": {
      "needs_background": "light"
     },
     "output_type": "display_data"
    },
    {
     "name": "stdout",
     "output_type": "stream",
     "text": [
      "\n",
      "Next state reitz\n",
      "Next states array: [0, 1, 2, 3, 2]\n",
      "Next buildings array: ['marston', 'hub', 'reitz', 'lib west', 'reitz']\n"
     ]
    }
   ],
   "source": [
    "# demo of a Markov chain predictor\n",
    "#TODO: make transition matrix look pretty?\n",
    "\n",
    "#Toy data\n",
    "bldg_dict = {0: 'marston', \n",
    "             1: 'hub',\n",
    "             2: 'reitz',\n",
    "             3: 'lib west'}\n",
    "personHistory = np.array([0,0,0,1,1,2,2,1,2,3,2,3,2,3,1,2,0,1,0])\n",
    "\n",
    "#Make transition matrix\n",
    "TransMat = MakeTransitionMatrix(personHistory)\n",
    "print(\"TransMat:\\n\", TransMat)\n",
    "\n",
    "#Predict future steps based on their most recent history\n",
    "NumFutureSteps  = 5\n",
    "MostRecentState = personHistory[-1]\n",
    "PredictFutureSteps(TransMat, MostRecentState, bldg_dict, NumFutureSteps, PlotCDF=True):"
   ]
  },
  {
   "cell_type": "code",
   "execution_count": null,
   "metadata": {},
   "outputs": [],
   "source": []
  },
  {
   "cell_type": "code",
   "execution_count": null,
   "metadata": {},
   "outputs": [],
   "source": []
  }
 ],
 "metadata": {
  "kernelspec": {
   "display_name": "Python 3",
   "language": "python",
   "name": "python3"
  },
  "language_info": {
   "codemirror_mode": {
    "name": "ipython",
    "version": 3
   },
   "file_extension": ".py",
   "mimetype": "text/x-python",
   "name": "python",
   "nbconvert_exporter": "python",
   "pygments_lexer": "ipython3",
   "version": "3.7.6"
  },
  "metadata": {
   "interpreter": {
    "hash": "d262b3cf53436df4d43148531b8b8c13029e50250a57d118b8471bcdaf78eff0"
   }
  }
 },
 "nbformat": 4,
 "nbformat_minor": 2
}
