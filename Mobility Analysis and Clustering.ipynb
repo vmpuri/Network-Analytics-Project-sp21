{
 "cells": [
  {
   "cell_type": "markdown",
   "metadata": {},
   "source": [
    "# Network Analytics Project"
   ]
  },
  {
   "cell_type": "code",
   "execution_count": 1,
   "metadata": {},
   "outputs": [
    {
     "name": "stdout",
     "output_type": "stream",
     "text": [
      "Project: CIS6930 Network Analytics & Machine Learning\n",
      "Group Members: ['Pankaj Chand', 'Keith Levengood', 'Nicholas Kroeger', 'Varun Puri']\n",
      "\n",
      "Library Versions\n",
      "### Python version: 3.7.6 (default, Jan  8 2020, 13:42:34) \n",
      "[Clang 4.0.1 (tags/RELEASE_401/final)]\n",
      "### Pandas Version: 1.2.2\n",
      "### MatPlotLib version:3.3.4\n",
      "------------\n"
     ]
    }
   ],
   "source": [
    "group_members=['Pankaj Chand', 'Keith Levengood', 'Nicholas Kroeger', 'Varun Puri']\n",
    "print('Project: CIS6930 Network Analytics & Machine Learning')\n",
    "print('Group Members:', group_members)\n",
    "\n",
    "import pandas as pd\n",
    "import matplotlib\n",
    "import matplotlib.pyplot as plt\n",
    "import numpy as np\n",
    "from os import listdir\n",
    "from datetime import datetime\n",
    "import pickle\n",
    "\n",
    "print('\\nLibrary Versions')\n",
    "print('### Python version: ' + __import__('sys').version)\n",
    "print('### Pandas Version: ' + pd.__version__)\n",
    "print('### MatPlotLib version:' + matplotlib.__version__)\n",
    "print('------------')"
   ]
  },
  {
   "cell_type": "markdown",
   "metadata": {},
   "source": [
    "# Load in data"
   ]
  },
  {
   "cell_type": "code",
   "execution_count": 2,
   "metadata": {},
   "outputs": [],
   "source": [
    "import itertools\n",
    "\n",
    "# Helper function to get the prefix of each APNAME \n",
    "def convertAPNameToPrefix(df):\n",
    "    prefixes = []\n",
    "    for i in range(len(df)):\n",
    "        tempPrefix = [\"\".join(x) for _, x in itertools.groupby(df.iloc[i], key=str.isdigit)][0]\n",
    "        prefixes.append(tempPrefix)\n",
    "    return prefixes"
   ]
  },
  {
   "cell_type": "code",
   "execution_count": 3,
   "metadata": {},
   "outputs": [],
   "source": [
    "loadPreprocessedData = True"
   ]
  },
  {
   "cell_type": "code",
   "execution_count": 4,
   "metadata": {},
   "outputs": [],
   "source": [
    "if loadPreprocessedData == False:\n",
    "    #load in csv, append APNAME to end of dataframe, save it out as .pkl\n",
    "    data = pd.read_csv('DHCP_April_2012_ANON_MAC_devType.csv')\n",
    "    print(\"loaded first dataframe\")\n",
    "    \n",
    "    print(\"Appending prefix name to table... will take a few minutes\")\n",
    "    \n",
    "    prefixes_col   = convertAPNameToPrefix(data['APNAME'])\n",
    "    data['prefix'] = prefixes_col\n",
    "    \n",
    "    print(\"Saving out new dataframe to .pkl file\")\n",
    "    data.to_pickle(\"./DHCP_April_2012_ANON_MAC_devType_wAPNAME.pkl\")\n",
    "else:\n",
    "    #load in preprecossed data\n",
    "    data = pd.read_pickle(\"./DHCP_April_2012_ANON_MAC_devType_wAPNAME.pkl\")"
   ]
  },
  {
   "cell_type": "markdown",
   "metadata": {},
   "source": [
    "# Look at the data"
   ]
  },
  {
   "cell_type": "code",
   "execution_count": 5,
   "metadata": {},
   "outputs": [
    {
     "data": {
      "text/plain": [
       "(           userIP  userMAC                APNAME              APMAC  \\\n",
       " 0   10.131.172.58    26257  fli113-win-lap3502-1  44:e4:d9:00:ed:e0   \n",
       " 1        10.0.1.3    22699  hrb112-win-lap1231-1  00:1a:a2:09:93:90   \n",
       " 2  10.132.190.205    30264  soc1402-temp-lap3502  58:35:d9:d5:cd:c0   \n",
       " 3  10.130.146.252    72815  soc1402-temp-lap3502  58:35:d9:d5:cd:c0   \n",
       " 4   10.130.248.68    69249               unknown  00:00:00:00:00:00   \n",
       " \n",
       "     startTime     endTime deviceType   prefix  \n",
       " 0  1333238682  1333238682          f      fli  \n",
       " 1  1333238682  1333238687    unknown      hrb  \n",
       " 2  1333238685  1333238687          f      soc  \n",
       " 3  1333238688  1333238688          f      soc  \n",
       " 4  1333238690  1333238690          f  unknown  ,\n",
       " (22821939, 8))"
      ]
     },
     "execution_count": 5,
     "metadata": {},
     "output_type": "execute_result"
    }
   ],
   "source": [
    "data.head(), data.shape"
   ]
  },
  {
   "cell_type": "code",
   "execution_count": 6,
   "metadata": {},
   "outputs": [
    {
     "name": "stdout",
     "output_type": "stream",
     "text": [
      "2012-04-01 00:04:41\n",
      "2012-05-01 00:05:20\n"
     ]
    },
    {
     "data": {
      "text/plain": [
       "<AxesSubplot:>"
      ]
     },
     "execution_count": 6,
     "metadata": {},
     "output_type": "execute_result"
    },
    {
     "data": {
      "image/png": "[encoded data removed]",
      "text/plain": [
       "<Figure size 432x288 with 1 Axes>"
      ]
     },
     "metadata": {
      "needs_background": "light"
     },
     "output_type": "display_data"
    }
   ],
   "source": [
    "print(pd.to_datetime(data['startTime'].min(), unit='s'))\n",
    "print(pd.to_datetime(data['endTime'].max(), unit='s'))\n",
    "data['startTime'].hist(bins=1000)\n",
    "data['endTime'].hist(bins=1000)"
   ]
  },
  {
   "cell_type": "markdown",
   "metadata": {},
   "source": [
    "# Load in prefix and building information"
   ]
  },
  {
   "cell_type": "code",
   "execution_count": 7,
   "metadata": {
    "scrolled": false
   },
   "outputs": [],
   "source": [
    "prefix_lat_lon = pd.read_csv('prefix_lat_lon_name_category.csv')\n",
    "legalPrefixes = prefix_lat_lon.prefix\n"
   ]
  },
  {
   "cell_type": "code",
   "execution_count": 8,
   "metadata": {},
   "outputs": [
    {
     "name": "stdout",
     "output_type": "stream",
     "text": [
      "    prefix        lat        lon                             name  category\n",
      "0      aaf  29.650275 -82.345720         Academic Advising Center     admin\n",
      "1      adv  29.648792 -82.359303  Martin H. Levin Advocacy Center  academic\n",
      "2      aer  29.643272 -82.348300       Mec. Aerospace Engineering  academic\n",
      "3     aerv  29.643272 -82.348300       Mec. Aerospace Engineering  academic\n",
      "4      alf  29.642948 -82.348636   Alfred A. Ring Tennis Pavilion    sports\n",
      "..     ...        ...        ...                              ...       ...\n",
      "189   weim  29.647761 -82.347342                      Wiemer Hall  academic\n",
      "190  weimG  29.647761 -82.347342                      Wiemer Hall  academic\n",
      "191  weimg  29.647761 -82.347342                      Wiemer Hall  academic\n",
      "192     wm  29.648052 -82.346709                  Williamson Hall  academic\n",
      "193    yon  29.649968 -82.347888                         Yon Hall  academic\n",
      "\n",
      "[194 rows x 5 columns]\n"
     ]
    }
   ],
   "source": [
    "print(prefix_lat_lon)"
   ]
  },
  {
   "cell_type": "code",
   "execution_count": 9,
   "metadata": {},
   "outputs": [
    {
     "data": {
      "text/plain": [
       "0     aaf\n",
       "1     adv\n",
       "2     aer\n",
       "3    aerv\n",
       "4     alf\n",
       "Name: prefix, dtype: object"
      ]
     },
     "execution_count": 9,
     "metadata": {},
     "output_type": "execute_result"
    }
   ],
   "source": [
    "legalPrefixes.head()"
   ]
  },
  {
   "cell_type": "markdown",
   "metadata": {},
   "source": [
    "# Clean the data"
   ]
  },
  {
   "cell_type": "code",
   "execution_count": 10,
   "metadata": {},
   "outputs": [],
   "source": [
    "#prefixes found from our preprocessing function\n",
    "#prefixesFound = np.unique(data.prefix)\n",
    "prefixesFound = data['prefix'].unique()"
   ]
  },
  {
   "cell_type": "code",
   "execution_count": 11,
   "metadata": {},
   "outputs": [],
   "source": [
    "#prefixes in the base table that don't match in the prefix table \n",
    "#TODO: more preprocessing to keep some of these?\n",
    "unknownPrefixes = list(np.setdiff1d(prefixesFound, np.asarray(legalPrefixes)))"
   ]
  },
  {
   "cell_type": "code",
   "execution_count": 12,
   "metadata": {},
   "outputs": [
    {
     "data": {
      "text/plain": [
       "['AP',\n",
       " 'APc',\n",
       " 'APe',\n",
       " 'APf',\n",
       " 'apopka',\n",
       " 'apopka-win-lap',\n",
       " 'b',\n",
       " 'cba-ftlauderdale-win-lap',\n",
       " 'ctx',\n",
       " 'dairy-win-lap',\n",
       " 'ecob',\n",
       " 'escv',\n",
       " 'flrec',\n",
       " 'hotidf-win-lap',\n",
       " 'irrec',\n",
       " 'mowv',\n",
       " 'ohl',\n",
       " 'osbs-win-lap',\n",
       " 'osbs-xxx-win-lap',\n",
       " 'osbstr',\n",
       " 'pep',\n",
       " 'presAttic-wout-lap',\n",
       " 'presStairs-win-lap',\n",
       " 'rl',\n",
       " 'rubygillhs-win-lap',\n",
       " 'treeo-win-lap',\n",
       " 'uic-win-lap',\n",
       " 'unknown',\n",
       " 'wrt']"
      ]
     },
     "execution_count": 12,
     "metadata": {},
     "output_type": "execute_result"
    }
   ],
   "source": [
    "unknownPrefixes"
   ]
  },
  {
   "cell_type": "code",
   "execution_count": 13,
   "metadata": {},
   "outputs": [
    {
     "data": {
      "text/plain": [
       "(18867555, 8)"
      ]
     },
     "execution_count": 13,
     "metadata": {},
     "output_type": "execute_result"
    }
   ],
   "source": [
    "#keep only valid prefixes (based on the prefix_lat_lon_name_category.csv table)\n",
    "#removes about 400k rows?\n",
    "data = data[~data['prefix'].isin(unknownPrefixes)]\n",
    "data.shape"
   ]
  },
  {
   "cell_type": "code",
   "execution_count": 14,
   "metadata": {},
   "outputs": [
    {
     "name": "stdout",
     "output_type": "stream",
     "text": [
      "(9179058, 8)\n"
     ]
    },
    {
     "data": {
      "text/html": [
       "<div>\n",
       "<style scoped>\n",
       "    .dataframe tbody tr th:only-of-type {\n",
       "        vertical-align: middle;\n",
       "    }\n",
       "\n",
       "    .dataframe tbody tr th {\n",
       "        vertical-align: top;\n",
       "    }\n",
       "\n",
       "    .dataframe thead th {\n",
       "        text-align: right;\n",
       "    }\n",
       "</style>\n",
       "<table border=\"1\" class=\"dataframe\">\n",
       "  <thead>\n",
       "    <tr style=\"text-align: right;\">\n",
       "      <th></th>\n",
       "      <th>userIP</th>\n",
       "      <th>userMAC</th>\n",
       "      <th>APNAME</th>\n",
       "      <th>APMAC</th>\n",
       "      <th>startTime</th>\n",
       "      <th>endTime</th>\n",
       "      <th>deviceType</th>\n",
       "      <th>prefix</th>\n",
       "    </tr>\n",
       "  </thead>\n",
       "  <tbody>\n",
       "    <tr>\n",
       "      <th>32</th>\n",
       "      <td>10.131.163.198</td>\n",
       "      <td>12544</td>\n",
       "      <td>gri101-wout-lap1231-1</td>\n",
       "      <td>00:1a:e2:10:ba:90</td>\n",
       "      <td>1333238683</td>\n",
       "      <td>1333238723</td>\n",
       "      <td>f</td>\n",
       "      <td>gri</td>\n",
       "    </tr>\n",
       "    <tr>\n",
       "      <th>41</th>\n",
       "      <td>10.132.190.177</td>\n",
       "      <td>33782</td>\n",
       "      <td>soc-temp-lap3502-5</td>\n",
       "      <td>88:f0:77:f2:67:a0</td>\n",
       "      <td>1333238693</td>\n",
       "      <td>1333238733</td>\n",
       "      <td>f</td>\n",
       "      <td>soc-temp-lap</td>\n",
       "    </tr>\n",
       "    <tr>\n",
       "      <th>42</th>\n",
       "      <td>10.132.251.191</td>\n",
       "      <td>85756</td>\n",
       "      <td>soc-temp-lap3502-2</td>\n",
       "      <td>88:f0:77:f2:5f:a0</td>\n",
       "      <td>1333238692</td>\n",
       "      <td>1333238736</td>\n",
       "      <td>f</td>\n",
       "      <td>soc-temp-lap</td>\n",
       "    </tr>\n",
       "    <tr>\n",
       "      <th>45</th>\n",
       "      <td>10.132.190.116</td>\n",
       "      <td>59170</td>\n",
       "      <td>soc-temp-lap3502-4</td>\n",
       "      <td>88:f0:77:f2:60:e0</td>\n",
       "      <td>1333238694</td>\n",
       "      <td>1333238738</td>\n",
       "      <td>f</td>\n",
       "      <td>soc-temp-lap</td>\n",
       "    </tr>\n",
       "    <tr>\n",
       "      <th>46</th>\n",
       "      <td>10.132.255.218</td>\n",
       "      <td>23629</td>\n",
       "      <td>soc-temp-lap3502-1</td>\n",
       "      <td>88:f0:77:f2:6b:80</td>\n",
       "      <td>1333238691</td>\n",
       "      <td>1333238741</td>\n",
       "      <td>unknown</td>\n",
       "      <td>soc-temp-lap</td>\n",
       "    </tr>\n",
       "  </tbody>\n",
       "</table>\n",
       "</div>"
      ],
      "text/plain": [
       "            userIP  userMAC                 APNAME              APMAC  \\\n",
       "32  10.131.163.198    12544  gri101-wout-lap1231-1  00:1a:e2:10:ba:90   \n",
       "41  10.132.190.177    33782     soc-temp-lap3502-5  88:f0:77:f2:67:a0   \n",
       "42  10.132.251.191    85756     soc-temp-lap3502-2  88:f0:77:f2:5f:a0   \n",
       "45  10.132.190.116    59170     soc-temp-lap3502-4  88:f0:77:f2:60:e0   \n",
       "46  10.132.255.218    23629     soc-temp-lap3502-1  88:f0:77:f2:6b:80   \n",
       "\n",
       "     startTime     endTime deviceType        prefix  \n",
       "32  1333238683  1333238723          f           gri  \n",
       "41  1333238693  1333238733          f  soc-temp-lap  \n",
       "42  1333238692  1333238736          f  soc-temp-lap  \n",
       "45  1333238694  1333238738          f  soc-temp-lap  \n",
       "46  1333238691  1333238741    unknown  soc-temp-lap  "
      ]
     },
     "execution_count": 14,
     "metadata": {},
     "output_type": "execute_result"
    }
   ],
   "source": [
    "# Keep only sessions longer than 10 seconds. Removes ~ 7 million receords. \n",
    "data = data[data['endTime']-data['startTime'] > 30]\n",
    "print(data.shape)\n",
    "data.head()"
   ]
  },
  {
   "cell_type": "code",
   "execution_count": 15,
   "metadata": {},
   "outputs": [
    {
     "name": "stdout",
     "output_type": "stream",
     "text": [
      "(3722227, 8)\n"
     ]
    }
   ],
   "source": [
    "# Remove all records with users who have had fewer than 500 sessions \n",
    "data = data.groupby('userMAC').filter(lambda x : len(x)>500)\n",
    "print(data.shape)"
   ]
  },
  {
   "cell_type": "markdown",
   "metadata": {},
   "source": [
    "## Get information about each user (useful for prediction later)"
   ]
  },
  {
   "cell_type": "code",
   "execution_count": 16,
   "metadata": {},
   "outputs": [],
   "source": [
    "numUsers = data['userMAC'].unique().shape[0]"
   ]
  },
  {
   "cell_type": "code",
   "execution_count": 17,
   "metadata": {},
   "outputs": [
    {
     "data": {
      "text/html": [
       "<div>\n",
       "<style scoped>\n",
       "    .dataframe tbody tr th:only-of-type {\n",
       "        vertical-align: middle;\n",
       "    }\n",
       "\n",
       "    .dataframe tbody tr th {\n",
       "        vertical-align: top;\n",
       "    }\n",
       "\n",
       "    .dataframe thead th {\n",
       "        text-align: right;\n",
       "    }\n",
       "</style>\n",
       "<table border=\"1\" class=\"dataframe\">\n",
       "  <thead>\n",
       "    <tr style=\"text-align: right;\">\n",
       "      <th></th>\n",
       "      <th>prefix</th>\n",
       "      <th>name</th>\n",
       "      <th>category</th>\n",
       "    </tr>\n",
       "  </thead>\n",
       "  <tbody>\n",
       "    <tr>\n",
       "      <th>0</th>\n",
       "      <td>aaf</td>\n",
       "      <td>Academic Advising Center</td>\n",
       "      <td>admin</td>\n",
       "    </tr>\n",
       "    <tr>\n",
       "      <th>1</th>\n",
       "      <td>adv</td>\n",
       "      <td>Martin H. Levin Advocacy Center</td>\n",
       "      <td>academic</td>\n",
       "    </tr>\n",
       "    <tr>\n",
       "      <th>2</th>\n",
       "      <td>aer</td>\n",
       "      <td>Mec. Aerospace Engineering</td>\n",
       "      <td>academic</td>\n",
       "    </tr>\n",
       "    <tr>\n",
       "      <th>3</th>\n",
       "      <td>aerv</td>\n",
       "      <td>Mec. Aerospace Engineering</td>\n",
       "      <td>academic</td>\n",
       "    </tr>\n",
       "    <tr>\n",
       "      <th>4</th>\n",
       "      <td>alf</td>\n",
       "      <td>Alfred A. Ring Tennis Pavilion</td>\n",
       "      <td>sports</td>\n",
       "    </tr>\n",
       "  </tbody>\n",
       "</table>\n",
       "</div>"
      ],
      "text/plain": [
       "  prefix                             name  category\n",
       "0    aaf         Academic Advising Center     admin\n",
       "1    adv  Martin H. Levin Advocacy Center  academic\n",
       "2    aer       Mec. Aerospace Engineering  academic\n",
       "3   aerv       Mec. Aerospace Engineering  academic\n",
       "4    alf   Alfred A. Ring Tennis Pavilion    sports"
      ]
     },
     "execution_count": 17,
     "metadata": {},
     "output_type": "execute_result"
    }
   ],
   "source": [
    "location_info = prefix_lat_lon[['prefix','name','category']]\n",
    "location_info.head()"
   ]
  },
  {
   "cell_type": "markdown",
   "metadata": {},
   "source": [
    "## Association Matrix"
   ]
  },
  {
   "cell_type": "code",
   "execution_count": 18,
   "metadata": {},
   "outputs": [
    {
     "name": "stdout",
     "output_type": "stream",
     "text": [
      "(721,)\n"
     ]
    }
   ],
   "source": [
    "data_start = data['startTime'].min()\n",
    "data_end = data['endTime'].max()\n",
    "step = 3600\n",
    "time_slots = np.arange(data_start, data_end, step)\n",
    "#time_slots[-1] = data_end\n",
    "print(time_slots.shape)"
   ]
  },
  {
   "cell_type": "code",
   "execution_count": 19,
   "metadata": {},
   "outputs": [
    {
     "name": "stdout",
     "output_type": "stream",
     "text": [
      "1333238682 1335830719\n",
      "[1333238682 1333242282 1333245882 1333249482 1333253082 1333256682\n",
      " 1333260282 1333263882 1333267482 1333271082 1333274682 1333278282\n",
      " 1333281882 1333285482 1333289082 1333292682 1333296282 1333299882\n",
      " 1333303482 1333307082 1333310682 1333314282 1333317882 1333321482\n",
      " 1333325082 1333328682 1333332282 1333335882 1333339482 1333343082\n",
      " 1333346682 1333350282 1333353882 1333357482 1333361082 1333364682\n",
      " 1333368282 1333371882 1333375482 1333379082 1333382682 1333386282\n",
      " 1333389882 1333393482 1333397082 1333400682 1333404282 1333407882\n",
      " 1333411482 1333415082 1333418682 1333422282 1333425882 1333429482\n",
      " 1333433082 1333436682 1333440282 1333443882 1333447482 1333451082\n",
      " 1333454682 1333458282 1333461882 1333465482 1333469082 1333472682\n",
      " 1333476282 1333479882 1333483482 1333487082 1333490682 1333494282\n",
      " 1333497882 1333501482 1333505082 1333508682 1333512282 1333515882\n",
      " 1333519482 1333523082 1333526682 1333530282 1333533882 1333537482\n",
      " 1333541082 1333544682 1333548282 1333551882 1333555482 1333559082\n",
      " 1333562682 1333566282 1333569882 1333573482 1333577082 1333580682\n",
      " 1333584282 1333587882 1333591482 1333595082 1333598682 1333602282\n",
      " 1333605882 1333609482 1333613082 1333616682 1333620282 1333623882\n",
      " 1333627482 1333631082 1333634682 1333638282 1333641882 1333645482\n",
      " 1333649082 1333652682 1333656282 1333659882 1333663482 1333667082\n",
      " 1333670682 1333674282 1333677882 1333681482 1333685082 1333688682\n",
      " 1333692282 1333695882 1333699482 1333703082 1333706682 1333710282\n",
      " 1333713882 1333717482 1333721082 1333724682 1333728282 1333731882\n",
      " 1333735482 1333739082 1333742682 1333746282 1333749882 1333753482\n",
      " 1333757082 1333760682 1333764282 1333767882 1333771482 1333775082\n",
      " 1333778682 1333782282 1333785882 1333789482 1333793082 1333796682\n",
      " 1333800282 1333803882 1333807482 1333811082 1333814682 1333818282\n",
      " 1333821882 1333825482 1333829082 1333832682 1333836282 1333839882\n",
      " 1333843482 1333847082 1333850682 1333854282 1333857882 1333861482\n",
      " 1333865082 1333868682 1333872282 1333875882 1333879482 1333883082\n",
      " 1333886682 1333890282 1333893882 1333897482 1333901082 1333904682\n",
      " 1333908282 1333911882 1333915482 1333919082 1333922682 1333926282\n",
      " 1333929882 1333933482 1333937082 1333940682 1333944282 1333947882\n",
      " 1333951482 1333955082 1333958682 1333962282 1333965882 1333969482\n",
      " 1333973082 1333976682 1333980282 1333983882 1333987482 1333991082\n",
      " 1333994682 1333998282 1334001882 1334005482 1334009082 1334012682\n",
      " 1334016282 1334019882 1334023482 1334027082 1334030682 1334034282\n",
      " 1334037882 1334041482 1334045082 1334048682 1334052282 1334055882\n",
      " 1334059482 1334063082 1334066682 1334070282 1334073882 1334077482\n",
      " 1334081082 1334084682 1334088282 1334091882 1334095482 1334099082\n",
      " 1334102682 1334106282 1334109882 1334113482 1334117082 1334120682\n",
      " 1334124282 1334127882 1334131482 1334135082 1334138682 1334142282\n",
      " 1334145882 1334149482 1334153082 1334156682 1334160282 1334163882\n",
      " 1334167482 1334171082 1334174682 1334178282 1334181882 1334185482\n",
      " 1334189082 1334192682 1334196282 1334199882 1334203482 1334207082\n",
      " 1334210682 1334214282 1334217882 1334221482 1334225082 1334228682\n",
      " 1334232282 1334235882 1334239482 1334243082 1334246682 1334250282\n",
      " 1334253882 1334257482 1334261082 1334264682 1334268282 1334271882\n",
      " 1334275482 1334279082 1334282682 1334286282 1334289882 1334293482\n",
      " 1334297082 1334300682 1334304282 1334307882 1334311482 1334315082\n",
      " 1334318682 1334322282 1334325882 1334329482 1334333082 1334336682\n",
      " 1334340282 1334343882 1334347482 1334351082 1334354682 1334358282\n",
      " 1334361882 1334365482 1334369082 1334372682 1334376282 1334379882\n",
      " 1334383482 1334387082 1334390682 1334394282 1334397882 1334401482\n",
      " 1334405082 1334408682 1334412282 1334415882 1334419482 1334423082\n",
      " 1334426682 1334430282 1334433882 1334437482 1334441082 1334444682\n",
      " 1334448282 1334451882 1334455482 1334459082 1334462682 1334466282\n",
      " 1334469882 1334473482 1334477082 1334480682 1334484282 1334487882\n",
      " 1334491482 1334495082 1334498682 1334502282 1334505882 1334509482\n",
      " 1334513082 1334516682 1334520282 1334523882 1334527482 1334531082\n",
      " 1334534682 1334538282 1334541882 1334545482 1334549082 1334552682\n",
      " 1334556282 1334559882 1334563482 1334567082 1334570682 1334574282\n",
      " 1334577882 1334581482 1334585082 1334588682 1334592282 1334595882\n",
      " 1334599482 1334603082 1334606682 1334610282 1334613882 1334617482\n",
      " 1334621082 1334624682 1334628282 1334631882 1334635482 1334639082\n",
      " 1334642682 1334646282 1334649882 1334653482 1334657082 1334660682\n",
      " 1334664282 1334667882 1334671482 1334675082 1334678682 1334682282\n",
      " 1334685882 1334689482 1334693082 1334696682 1334700282 1334703882\n",
      " 1334707482 1334711082 1334714682 1334718282 1334721882 1334725482\n",
      " 1334729082 1334732682 1334736282 1334739882 1334743482 1334747082\n",
      " 1334750682 1334754282 1334757882 1334761482 1334765082 1334768682\n",
      " 1334772282 1334775882 1334779482 1334783082 1334786682 1334790282\n",
      " 1334793882 1334797482 1334801082 1334804682 1334808282 1334811882\n",
      " 1334815482 1334819082 1334822682 1334826282 1334829882 1334833482\n",
      " 1334837082 1334840682 1334844282 1334847882 1334851482 1334855082\n",
      " 1334858682 1334862282 1334865882 1334869482 1334873082 1334876682\n",
      " 1334880282 1334883882 1334887482 1334891082 1334894682 1334898282\n",
      " 1334901882 1334905482 1334909082 1334912682 1334916282 1334919882\n",
      " 1334923482 1334927082 1334930682 1334934282 1334937882 1334941482\n",
      " 1334945082 1334948682 1334952282 1334955882 1334959482 1334963082\n",
      " 1334966682 1334970282 1334973882 1334977482 1334981082 1334984682\n",
      " 1334988282 1334991882 1334995482 1334999082 1335002682 1335006282\n",
      " 1335009882 1335013482 1335017082 1335020682 1335024282 1335027882\n",
      " 1335031482 1335035082 1335038682 1335042282 1335045882 1335049482\n",
      " 1335053082 1335056682 1335060282 1335063882 1335067482 1335071082\n",
      " 1335074682 1335078282 1335081882 1335085482 1335089082 1335092682\n",
      " 1335096282 1335099882 1335103482 1335107082 1335110682 1335114282\n",
      " 1335117882 1335121482 1335125082 1335128682 1335132282 1335135882\n",
      " 1335139482 1335143082 1335146682 1335150282 1335153882 1335157482\n",
      " 1335161082 1335164682 1335168282 1335171882 1335175482 1335179082\n",
      " 1335182682 1335186282 1335189882 1335193482 1335197082 1335200682\n",
      " 1335204282 1335207882 1335211482 1335215082 1335218682 1335222282\n",
      " 1335225882 1335229482 1335233082 1335236682 1335240282 1335243882\n",
      " 1335247482 1335251082 1335254682 1335258282 1335261882 1335265482\n",
      " 1335269082 1335272682 1335276282 1335279882 1335283482 1335287082\n",
      " 1335290682 1335294282 1335297882 1335301482 1335305082 1335308682\n",
      " 1335312282 1335315882 1335319482 1335323082 1335326682 1335330282\n",
      " 1335333882 1335337482 1335341082 1335344682 1335348282 1335351882\n",
      " 1335355482 1335359082 1335362682 1335366282 1335369882 1335373482\n",
      " 1335377082 1335380682 1335384282 1335387882 1335391482 1335395082\n",
      " 1335398682 1335402282 1335405882 1335409482 1335413082 1335416682\n",
      " 1335420282 1335423882 1335427482 1335431082 1335434682 1335438282\n",
      " 1335441882 1335445482 1335449082 1335452682 1335456282 1335459882\n",
      " 1335463482 1335467082 1335470682 1335474282 1335477882 1335481482\n",
      " 1335485082 1335488682 1335492282 1335495882 1335499482 1335503082\n",
      " 1335506682 1335510282 1335513882 1335517482 1335521082 1335524682\n",
      " 1335528282 1335531882 1335535482 1335539082 1335542682 1335546282\n",
      " 1335549882 1335553482 1335557082 1335560682 1335564282 1335567882\n",
      " 1335571482 1335575082 1335578682 1335582282 1335585882 1335589482\n",
      " 1335593082 1335596682 1335600282 1335603882 1335607482 1335611082\n",
      " 1335614682 1335618282 1335621882 1335625482 1335629082 1335632682\n",
      " 1335636282 1335639882 1335643482 1335647082 1335650682 1335654282\n",
      " 1335657882 1335661482 1335665082 1335668682 1335672282 1335675882\n",
      " 1335679482 1335683082 1335686682 1335690282 1335693882 1335697482\n",
      " 1335701082 1335704682 1335708282 1335711882 1335715482 1335719082\n",
      " 1335722682 1335726282 1335729882 1335733482 1335737082 1335740682\n",
      " 1335744282 1335747882 1335751482 1335755082 1335758682 1335762282\n",
      " 1335765882 1335769482 1335773082 1335776682 1335780282 1335783882\n",
      " 1335787482 1335791082 1335794682 1335798282 1335801882 1335805482\n",
      " 1335809082 1335812682 1335816282 1335819882 1335823482 1335827082\n",
      " 1335830682]\n"
     ]
    }
   ],
   "source": [
    "print(data_start, data_end)\n",
    "print(time_slots)"
   ]
  },
  {
   "cell_type": "code",
   "execution_count": 20,
   "metadata": {},
   "outputs": [
    {
     "name": "stdout",
     "output_type": "stream",
     "text": [
      "137\n"
     ]
    }
   ],
   "source": [
    "numLocations = location_info['name'].unique().shape[0]\n",
    "print(numLocations)"
   ]
  },
  {
   "cell_type": "code",
   "execution_count": 21,
   "metadata": {},
   "outputs": [],
   "source": [
    "def encounter_length(sa, ea, sb, eb):\n",
    "    smax = sa if sa > sb else sb\n",
    "    emin = ea if ea < eb else eb\n",
    "    return emin - smax"
   ]
  },
  {
   "cell_type": "code",
   "execution_count": 22,
   "metadata": {},
   "outputs": [],
   "source": [
    "from ncls import NCLS"
   ]
  },
  {
   "cell_type": "code",
   "execution_count": 23,
   "metadata": {},
   "outputs": [],
   "source": [
    "#create dict mapping prefix to building name\n",
    "name_prefix_codes = dict(zip(location_info.prefix, location_info.name))"
   ]
  },
  {
   "cell_type": "code",
   "execution_count": 24,
   "metadata": {},
   "outputs": [],
   "source": [
    "def generateAssociationMatrices():\n",
    "    ass_mats = [0]*numUsers\n",
    "    usermacs = [0]*numUsers\n",
    "    inds = np.arange(0, len(time_slots))\n",
    "    #print(\"indx\", inds)\n",
    "    #print(time_slots)\n",
    "    int_tree = NCLS(time_slots.astype(np.int64), (time_slots + step).astype(np.int64), inds.astype(np.int64))\n",
    "\n",
    "    counter = 0\n",
    "    for user in data['userMAC'].unique():\n",
    "        if (counter % 5 == 0):\n",
    "            print(\"User \", counter, '/', numUsers)\n",
    "        #ass_mat = np.zeroes((time_slots.shape[0], numLocations))\n",
    "        ass_mat = pd.DataFrame(0, index=time_slots, columns=location_info['name'].unique())\n",
    "        userSessions = data[data['userMAC'] == user]\n",
    "        \n",
    "        for session in userSessions.iterrows():\n",
    "            start = session[1]['startTime']\n",
    "            end =  session[1]['endTime']\n",
    "            overlaps = int_tree.find_overlap(start, end)\n",
    "            for o in overlaps:\n",
    "                enc_len = encounter_length(start, end, o[0], o[1])\n",
    "                prefix = session[1]['prefix']\n",
    "                #sessionBuildingName = location_info[location_info['prefix'] == prefix] ['name']\n",
    "                sessionBuildingName = name_prefix_codes[prefix]\n",
    "                ass_mat.loc[o[0]][sessionBuildingName] += enc_len\n",
    "        \n",
    "        ass_mats[counter] = ass_mat\n",
    "        usermacs[counter] = user\n",
    "        counter+=1\n",
    "\n",
    "    return ass_mats\n"
   ]
  },
  {
   "cell_type": "code",
   "execution_count": null,
   "metadata": {},
   "outputs": [],
   "source": []
  },
  {
   "cell_type": "code",
   "execution_count": 25,
   "metadata": {},
   "outputs": [],
   "source": [
    "def generateBuildingVectors():\n",
    "    bldg_vecs = [0]*numUsers\n",
    "    usermacs  = [0]*numUsers\n",
    "    inds = np.arange(0, len(time_slots))\n",
    "    #print(\"indx\", inds)\n",
    "    #print(time_slots)\n",
    "    int_tree = NCLS(time_slots.astype(np.int64), (time_slots + step).astype(np.int64), inds.astype(np.int64))\n",
    "    np.warnings.filterwarnings('ignore', category=np.VisibleDeprecationWarning)\n",
    "    counter = 0\n",
    "    for user in data['userMAC'].unique():\n",
    "        if (counter % 5 == 0):\n",
    "            print(\"User \", counter, '/', numUsers)\n",
    "        if counter > 2500:\n",
    "            break\n",
    "        #ass_mat = np.zeroes((time_slots.shape[0], numLocations))\n",
    "        ass_mat = pd.DataFrame(0, index=time_slots, columns=location_info['name'].unique())\n",
    "        userSessions = data[data['userMAC'] == user]\n",
    "        \n",
    "        for session in userSessions.iterrows():\n",
    "            start = session[1]['startTime']\n",
    "            end =  session[1]['endTime']\n",
    "            overlaps = int_tree.find_overlap(start, end)\n",
    "            for o in overlaps:\n",
    "                enc_len = encounter_length(start, end, o[0], o[1])\n",
    "                prefix = session[1]['prefix']\n",
    "                #sessionBuildingName = location_info[location_info['prefix'] == prefix] ['name']\n",
    "                sessionBuildingName = name_prefix_codes[prefix]\n",
    "                ass_mat.loc[o[0]][sessionBuildingName] += enc_len\n",
    "        ass_mat = np.asarray(ass_mat)\n",
    "        \n",
    "        tempBldgVec = np.zeros((len(time_slots), 1))   \n",
    "        for i in range(len(time_slots)): #loop all the time slots\n",
    "            if np.sum(ass_mat[i]) == 0: #havent been in any buildings for this time slot\n",
    "                if counter == 0: #first iter\n",
    "                    tempBldgVec[i] = np.random.randint(numLocations) #randomly pick a location \n",
    "                else: #still not in a building\n",
    "                    tempBldgVec[i] = bldg_vecs[counter-1][i] #take prev building\n",
    "            else:\n",
    "                tempBldgVec[i] = np.argmax(ass_mat[i]) #get building index\n",
    "        bldg_vecs[counter] = tempBldgVec\n",
    "        usermacs[counter]  = user\n",
    "        counter+=1\n",
    "\n",
    "    return bldg_vecs, usermacs\n"
   ]
  },
  {
   "cell_type": "code",
   "execution_count": 28,
   "metadata": {},
   "outputs": [],
   "source": [
    "#mats = generateAssociationMatrices()\n",
    "#Save association matrices (takes a long time to make them)\n",
    "#mats.to_pickle(\"./AssociationMatrices.pkl\")\n",
    "\n",
    "if loadPreprocessedData == False:\n",
    "    bldgHistoryPerPerson, usermacs = generateBuildingVectors()\n",
    "    with open('BldgHistoryPerPerson.npy', 'wb') as f:\n",
    "        np.save(f, bldgHistoryPerPerson)\n",
    "    with open('userMacInfo_BldgHistory.npy', 'wb') as f:\n",
    "        np.save(f, usermacs)\n",
    "else:\n",
    "    bldgHistoryPerPerson = np.load('BldgHistoryPerPerson.npy', allow_pickle=True)\n",
    "    usermacs = np.load('userMacInfo_BldgHistory.npy', allow_pickle=True)\n",
    "\n",
    "\n",
    "#DESCRIPTION: Each entry in the list is a user. Each user has an array over time of \n",
    "#             their most used building in that time slot"
   ]
  },
  {
   "cell_type": "code",
   "execution_count": 41,
   "metadata": {},
   "outputs": [],
   "source": [
    "# # Normalize per row\n",
    "# def normalizeAssMat(mats):\n",
    "#     for i in range(0, len(mats)):\n",
    "#         mats[i] = mats[i].div(mats[i].sum(axis=1), axis=0)\n",
    "#         mats[i].fillna(value=0, inplace=True)\n",
    "#     return mats"
   ]
  },
  {
   "cell_type": "code",
   "execution_count": 42,
   "metadata": {},
   "outputs": [],
   "source": [
    "# normalizedMats = normalizeAssMat(mats[:5])\n",
    "# print(normalizedMats[1].head())"
   ]
  },
  {
   "cell_type": "code",
   "execution_count": 34,
   "metadata": {},
   "outputs": [],
   "source": [
    "from sklearn.cluster import KMeans\n",
    "from sklearn.decomposition import PCA \n",
    "def ClusterWithAssMats():\n",
    "    #Clustering with ass_mats\n",
    "\n",
    "    numTimeSlots = len(time_slots)\n",
    "    numLocs = mats[0].shape[1]\n",
    "    X = [0]*100 #np.zeros((numUsers*numTimeSlots, numLocs))\n",
    "    for i in range(100):\n",
    "        X[i] = mats[i]\n",
    "    X = np.asarray(X)\n",
    "    print(X.shape)\n",
    "    X = X.reshape(100*numTimeSlots, numLocs)\n",
    "    print(X.shape)\n",
    "    \n",
    "    kmeans = KMeans(n_clusters = 5, random_state = 0).fit(X)\n",
    "    clusterCenters = kmeans.cluster_centers_\n",
    "    labels = kmeans.labels_ \n",
    "    print(\"labels\", labels)\n",
    "    \n",
    "    MC_Cluster = labels.reshape(100, 2881).T\n",
    "    unique, counts = np.unique(labels, return_counts=True)\n",
    "    print(unique, counts)\n",
    "    \n",
    "    #Try PCA on data and cluster it\n",
    "    pca = PCA(n_components = 3)\n",
    "    X_pca = pca.fit_transform(X)\n",
    "    print(pca.explained_variance_ratio_.cumsum())\n",
    "    fig = plt.figure()\n",
    "    ax = fig.add_subplot(projection='3d')\n",
    "    ax.scatter(X_pca[:,0], X_pca[:,1], X_pca[:,2])\n",
    "    plt.show()\n",
    "\n",
    "    kmeans_pca = KMeans(n_clusters = 5, random_state=5).fit(X_pca)"
   ]
  },
  {
   "cell_type": "code",
   "execution_count": 35,
   "metadata": {},
   "outputs": [
    {
     "data": {
      "text/plain": [
       "(2500, 721)"
      ]
     },
     "execution_count": 35,
     "metadata": {},
     "output_type": "execute_result"
    }
   ],
   "source": [
    "#Cluster the building time-series vector for each person\n",
    "#Temporarily use part of this array\n",
    "X = np.stack(bldgHistoryPerPerson[:2500],axis=1).squeeze().T\n",
    "X.shape"
   ]
  },
  {
   "cell_type": "code",
   "execution_count": 37,
   "metadata": {},
   "outputs": [],
   "source": [
    "#Custom distance metric (based on building location)\n",
    "if loadPreprocessedData == False:\n",
    "    BldgsCoords = [0]*numLocations\n",
    "    unique_bldgs = prefix_lat_lon['name'].unique()\n",
    "\n",
    "    for i in range(numLocations):\n",
    "        BldgsCoords[i] = prefix_lat_lon[prefix_lat_lon.name == unique_bldgs[i]][['lat','lon']].iloc[0]\n",
    "\n",
    "    with open('BldgsCoords.npy', 'wb') as f:\n",
    "        np.save(f, BldgsCoords)\n",
    "    with open('BldgDict.npy', 'wb') as f:\n",
    "        np.save(f, bldg_dict)\n",
    "else:\n",
    "    BldgsCoords = np.load('BldgsCoords.npy', allow_pickle=True)\n",
    "    bldg_dict = np.load('BldgDict.npy', allow_pickle=True)"
   ]
  },
  {
   "cell_type": "code",
   "execution_count": 38,
   "metadata": {},
   "outputs": [
    {
     "data": {
      "text/plain": [
       "array([[ 29.650275, -82.34572 ],\n",
       "       [ 29.648792, -82.359303],\n",
       "       [ 29.643272, -82.3483  ],\n",
       "       [ 29.642948, -82.348636],\n",
       "       [ 29.651573, -82.341939],\n",
       "       [ 29.631292, -82.351768],\n",
       "       [ 29.631292, -82.351768],\n",
       "       [ 29.646905, -82.343942],\n",
       "       [ 29.647656, -82.341748],\n",
       "       [ 29.648887, -82.342909],\n",
       "       [ 29.643915, -82.344403],\n",
       "       [ 29.639509, -82.359952],\n",
       "       [ 29.639518, -82.359949],\n",
       "       [ 29.647961, -82.351393],\n",
       "       [ 29.649216, -82.359055],\n",
       "       [ 29.641892, -82.347876],\n",
       "       [ 29.646552, -82.342104],\n",
       "       [ 29.648906, -82.345784],\n",
       "       [ 29.648906, -82.345784],\n",
       "       [ 29.645354, -82.347903],\n",
       "       [ 29.645256, -82.34771 ],\n",
       "       [ 29.645442, -82.348053],\n",
       "       [ 29.64903 , -82.341675],\n",
       "       [ 29.64903 , -82.341675],\n",
       "       [ 29.652971, -82.342913],\n",
       "       [ 29.643928, -82.343066],\n",
       "       [ 29.64272 , -82.347873],\n",
       "       [ 29.650947, -82.344073],\n",
       "       [ 29.64635 , -82.346664],\n",
       "       [ 29.639071, -82.368803],\n",
       "       [ 29.65013 , -82.341602],\n",
       "       [ 29.643859, -82.344859],\n",
       "       [ 29.64821 , -82.344387],\n",
       "       [ 29.633672, -82.361716],\n",
       "       [ 29.648189, -82.348498],\n",
       "       [ 29.649895, -82.344979],\n",
       "       [ 29.647025, -82.341302],\n",
       "       [ 29.641637, -82.348364],\n",
       "       [ 29.64353 , -82.343826],\n",
       "       [ 29.643476, -82.366184],\n",
       "       [ 29.634543, -82.366474],\n",
       "       [ 29.648127, -82.340636],\n",
       "       [ 29.648118, -82.339764],\n",
       "       [ 29.647768, -82.340343],\n",
       "       [ 29.648372, -82.340171],\n",
       "       [ 29.638503, -82.357321],\n",
       "       [ 29.638525, -82.35733 ],\n",
       "       [ 29.63847 , -82.361135],\n",
       "       [ 29.649463, -82.347294],\n",
       "       [ 29.651575, -82.34385 ],\n",
       "       [ 29.649981, -82.332703],\n",
       "       [ 29.650131, -82.343723],\n",
       "       [ 29.65047 , -82.347275],\n",
       "       [ 29.648006, -82.350075],\n",
       "       [ 29.650745, -82.340119],\n",
       "       [ 29.649287, -82.342056],\n",
       "       [ 29.637031, -82.370247],\n",
       "       [ 29.651103, -82.3486  ],\n",
       "       [ 29.650423, -82.340748],\n",
       "       [ 29.649817, -82.359215],\n",
       "       [ 29.651757, -82.334063],\n",
       "       [ 29.648251, -82.345586],\n",
       "       [ 29.644505, -82.352442],\n",
       "       [ 29.652301, -82.342142],\n",
       "       [ 29.652293, -82.341916],\n",
       "       [ 29.63781 , -82.362908],\n",
       "       [ 29.645697, -82.343192],\n",
       "       [ 29.649513, -82.346505],\n",
       "       [ 29.644393, -82.342214],\n",
       "       [ 29.643124, -82.347321],\n",
       "       [ 29.65112 , -82.34288 ],\n",
       "       [ 29.648846, -82.340697],\n",
       "       [ 29.64668 , -82.349201],\n",
       "       [ 29.647327, -82.349466],\n",
       "       [ 29.651649, -82.341016],\n",
       "       [ 29.646982, -82.345531],\n",
       "       [ 29.646754, -82.34492 ],\n",
       "       [ 29.646682, -82.345338],\n",
       "       [ 29.64646 , -82.344389],\n",
       "       [ 29.636058, -82.370845],\n",
       "       [ 29.648039, -82.346425],\n",
       "       [ 29.639963, -82.362885],\n",
       "       [ 29.641979, -82.344079],\n",
       "       [ 29.632906, -82.361672],\n",
       "       [ 29.647957, -82.343904],\n",
       "       [ 29.648244, -82.342908],\n",
       "       [ 29.644484, -82.3441  ],\n",
       "       [ 29.642764, -82.346123],\n",
       "       [ 29.642287, -82.347076],\n",
       "       [ 29.643913, -82.349779],\n",
       "       [ 29.646251, -82.337966],\n",
       "       [ 29.646947, -82.338164],\n",
       "       [ 29.646645, -82.337581],\n",
       "       [ 29.647381, -82.347996],\n",
       "       [ 29.645392, -82.345778],\n",
       "       [ 29.639754, -82.358956],\n",
       "       [ 29.639824, -82.358554],\n",
       "       [ 29.635312, -82.369309],\n",
       "       [ 29.642948, -82.369274],\n",
       "       [ 29.644585, -82.34878 ],\n",
       "       [ 29.639079, -82.358344],\n",
       "       [ 29.635726, -82.370236],\n",
       "       [ 29.648184, -82.36085 ],\n",
       "       [ 29.639481, -82.359603],\n",
       "       [ 29.641504, -82.347885],\n",
       "       [ 29.643418, -82.346266],\n",
       "       [ 29.649468, -82.345665],\n",
       "       [ 29.650076, -82.34634 ],\n",
       "       [ 29.646386, -82.34779 ],\n",
       "       [ 29.650148, -82.346799],\n",
       "       [ 29.647253, -82.348948],\n",
       "       [ 29.633165, -82.361168],\n",
       "       [ 29.633176, -82.360914],\n",
       "       [ 29.647983, -82.34811 ],\n",
       "       [ 29.646965, -82.343196],\n",
       "       [ 29.644495, -82.345433],\n",
       "       [ 29.649259, -82.344494],\n",
       "       [ 29.647647, -82.342621],\n",
       "       [ 29.650019, -82.344212],\n",
       "       [ 29.650878, -82.341791],\n",
       "       [ 29.649461, -82.351125],\n",
       "       [ 29.649961, -82.349511],\n",
       "       [ 29.650832, -82.341177],\n",
       "       [ 29.650976, -82.340971],\n",
       "       [ 29.638378, -82.368414],\n",
       "       [ 29.639601, -82.360412],\n",
       "       [ 29.649397, -82.339815],\n",
       "       [ 29.649333, -82.343903],\n",
       "       [ 29.633778, -82.366198],\n",
       "       [ 29.650447, -82.346867],\n",
       "       [ 29.648549, -82.351042],\n",
       "       [ 29.649455, -82.341582],\n",
       "       [ 29.648418, -82.348606],\n",
       "       [ 29.648399, -82.349265],\n",
       "       [ 29.647761, -82.347342],\n",
       "       [ 29.648052, -82.346709],\n",
       "       [ 29.649968, -82.347888]])"
      ]
     },
     "execution_count": 38,
     "metadata": {},
     "output_type": "execute_result"
    }
   ],
   "source": [
    "BldgsCoords"
   ]
  },
  {
   "cell_type": "code",
   "execution_count": 42,
   "metadata": {},
   "outputs": [],
   "source": [
    "from pyclustering.cluster.kmeans import kmeans\n",
    "from pyclustering.cluster.center_initializer import kmeans_plusplus_initializer\n",
    "from pyclustering.cluster.elbow import elbow\n",
    "from pyclustering.utils import read_sample\n",
    "from pyclustering.samples.definitions import SIMPLE_SAMPLES\n",
    "\n",
    "from pyclustering.cluster.kmedians import kmedians\n",
    "\n",
    "from haversine import haversine, Unit\n",
    "import math\n",
    "import pyclustering.utils.metric\n",
    "from pyclustering.utils.metric import distance_metric, type_metric"
   ]
  },
  {
   "cell_type": "code",
   "execution_count": 40,
   "metadata": {},
   "outputs": [],
   "source": [
    "def building_dist_metric(a, b):\n",
    "    coords_a = [BldgsCoords[int(x)] for x in a]\n",
    "    coords_b = [BldgsCoords[int(x)] for x in a]\n",
    "    \n",
    "    totalDist = 0\n",
    "    \n",
    "    for i in range(0,len(coords_a)):\n",
    "        totalDist += haversine(coords_a[i], coords_b[i])\n",
    "        \n",
    "    return math.sqrt(totalDist)\n",
    "bldg_dist_func = lambda point1, point2: building_dist_metric(point1, point2)\n",
    "bldg_dist_metric = distance_metric(type_metric.USER_DEFINED, func=bldg_dist_func)"
   ]
  },
  {
   "cell_type": "code",
   "execution_count": 43,
   "metadata": {},
   "outputs": [
    {
     "ename": "TypeError",
     "evalue": "object of type 'numpy.int64' has no len()",
     "output_type": "error",
     "traceback": [
      "\u001b[0;31m--------------------------------------------------------------------------\u001b[0m",
      "\u001b[0;31mTypeError\u001b[0m                                Traceback (most recent call last)",
      "\u001b[0;32m<ipython-input-43-bcc3a4fab639>\u001b[0m in \u001b[0;36m<module>\u001b[0;34m\u001b[0m\n\u001b[1;32m      6\u001b[0m \u001b[0;34m\u001b[0m\u001b[0m\n\u001b[1;32m      7\u001b[0m \u001b[0;31m# Run cluster analysis and obtain results.\u001b[0m\u001b[0;34m\u001b[0m\u001b[0;34m\u001b[0m\u001b[0;34m\u001b[0m\u001b[0m\n\u001b[0;32m----> 8\u001b[0;31m \u001b[0mkmedians_instance\u001b[0m\u001b[0;34m.\u001b[0m\u001b[0mprocess\u001b[0m\u001b[0;34m(\u001b[0m\u001b[0;34m)\u001b[0m\u001b[0;34m\u001b[0m\u001b[0;34m\u001b[0m\u001b[0m\n\u001b[0m\u001b[1;32m      9\u001b[0m \u001b[0mclusters\u001b[0m \u001b[0;34m=\u001b[0m \u001b[0mkmedians_instance\u001b[0m\u001b[0;34m.\u001b[0m\u001b[0mget_clusters\u001b[0m\u001b[0;34m(\u001b[0m\u001b[0;34m)\u001b[0m\u001b[0;34m\u001b[0m\u001b[0;34m\u001b[0m\u001b[0m\n\u001b[1;32m     10\u001b[0m \u001b[0mmedoids\u001b[0m \u001b[0;34m=\u001b[0m \u001b[0mkmedians_instance\u001b[0m\u001b[0;34m.\u001b[0m\u001b[0mget_medoids\u001b[0m\u001b[0;34m(\u001b[0m\u001b[0;34m)\u001b[0m\u001b[0;34m\u001b[0m\u001b[0;34m\u001b[0m\u001b[0m\n",
      "\u001b[0;32m~/opt/anaconda3/lib/python3.7/site-packages/pyclustering/cluster/kmedians.py\u001b[0m in \u001b[0;36mprocess\u001b[0;34m(self)\u001b[0m\n\u001b[1;32m    112\u001b[0m \u001b[0;34m\u001b[0m\u001b[0m\n\u001b[1;32m    113\u001b[0m             \u001b[0;31m# Check for dimension\u001b[0m\u001b[0;34m\u001b[0m\u001b[0;34m\u001b[0m\u001b[0;34m\u001b[0m\u001b[0m\n\u001b[0;32m--> 114\u001b[0;31m             \u001b[0;32mif\u001b[0m \u001b[0mlen\u001b[0m\u001b[0;34m(\u001b[0m\u001b[0mself\u001b[0m\u001b[0;34m.\u001b[0m\u001b[0m__pointer_data\u001b[0m\u001b[0;34m[\u001b[0m\u001b[0;36m0\u001b[0m\u001b[0;34m]\u001b[0m\u001b[0;34m)\u001b[0m \u001b[0;34m!=\u001b[0m \u001b[0mlen\u001b[0m\u001b[0;34m(\u001b[0m\u001b[0mself\u001b[0m\u001b[0;34m.\u001b[0m\u001b[0m__medians\u001b[0m\u001b[0;34m[\u001b[0m\u001b[0;36m0\u001b[0m\u001b[0;34m]\u001b[0m\u001b[0;34m)\u001b[0m\u001b[0;34m:\u001b[0m\u001b[0;34m\u001b[0m\u001b[0;34m\u001b[0m\u001b[0m\n\u001b[0m\u001b[1;32m    115\u001b[0m                 \u001b[0;32mraise\u001b[0m \u001b[0mNameError\u001b[0m\u001b[0;34m(\u001b[0m\u001b[0;34m'Dimension of the input data and dimension of the initial medians must be equal.'\u001b[0m\u001b[0;34m)\u001b[0m\u001b[0;34m\u001b[0m\u001b[0;34m\u001b[0m\u001b[0m\n\u001b[1;32m    116\u001b[0m \u001b[0;34m\u001b[0m\u001b[0m\n",
      "\u001b[0;31mTypeError\u001b[0m: object of type 'numpy.int64' has no len()"
     ]
    }
   ],
   "source": [
    "# Initialize initial medoids using K-Means++ algorithm\n",
    "initial_medoids = kmeans_plusplus_initializer(X, 4).initialize(return_index=True)\n",
    " \n",
    "# Create instance of K-Medoids (PAM) algorithm.\n",
    "kmedians_instance = kmedians(X, initial_medoids, metric = bldg_dist_metric)\n",
    "\n",
    "# Run cluster analysis and obtain results.\n",
    "kmedians_instance.process()\n",
    "clusters = kmedians_instance.get_clusters()\n",
    "medoids = kmedians_instance.get_medoids()\n",
    " \n",
    "# Print allocated clusters.\n",
    "print(\"medoids:\", medoids)"
   ]
  },
  {
   "cell_type": "code",
   "execution_count": 71,
   "metadata": {},
   "outputs": [
    {
     "name": "stdout",
     "output_type": "stream",
     "text": [
      "finished elbow\n"
     ]
    }
   ],
   "source": [
    "# create instance of Elbow method using K value from 1 to 10.\n",
    "kmin, kmax = 1, 75\n",
    "elbow_instance = elbow(X, kmin, kmax)\n",
    " \n",
    "# process input data and obtain results of analysis\n",
    "elbow_instance.process()\n",
    "amount_clusters = elbow_instance.get_amount()  # most probable amount of clusters\n",
    "wce = elbow_instance.get_wce()  # total within-cluster errors for each K\n",
    "print(\"finished elbow\")\n",
    "manhattan_metric = distance_metric(type_metric.MANHATTAN)\n",
    "\n",
    "# perform cluster analysis using K-Means algorithm\n",
    "\n",
    "centers = kmeans_plusplus_initializer(X, amount_clusters,\n",
    "                      amount_candidates=kmeans_plusplus_initializer.FARTHEST_CENTER_CANDIDATE,\n",
    "                      metric = bldg_dist_metric).initialize()\n",
    "kmeans_instance = kmeans(X, centers)\n",
    "kmeans_instance.process()\n",
    "\n",
    "# obtain clustering results and visualize them\n",
    "clusters = kmeans_instance.get_clusters()\n",
    "means    = kmeans_instance.get_centers()"
   ]
  },
  {
   "cell_type": "code",
   "execution_count": 172,
   "metadata": {},
   "outputs": [
    {
     "name": "stderr",
     "output_type": "stream",
     "text": [
      "/Users/nkroeger/opt/anaconda3/lib/python3.7/site-packages/numpy/core/_asarray.py:136: VisibleDeprecationWarning: Creating an ndarray from ragged nested sequences (which is a list-or-tuple of lists-or-tuples-or ndarrays with different lengths or shapes) is deprecated. If you meant to do this, you must specify 'dtype=object' when creating the ndarray\n",
      "  return array(a, dtype, copy=False, order=order, subok=True)\n"
     ]
    }
   ],
   "source": [
    "with open('kmeans_instance.npy', 'wb') as f:\n",
    "    np.save(f, kmeans_instance)\n",
    "with open('clusters.npy', 'wb') as f:\n",
    "    np.save(f, clusters)\n",
    "with open('means.npy', 'wb') as f:\n",
    "    np.save(f, means)"
   ]
  },
  {
   "cell_type": "code",
   "execution_count": 72,
   "metadata": {},
   "outputs": [],
   "source": [
    "roundedMeans = [np.rint(x) for x in means]"
   ]
  },
  {
   "cell_type": "code",
   "execution_count": 73,
   "metadata": {},
   "outputs": [
    {
     "name": "stdout",
     "output_type": "stream",
     "text": [
      "19\n"
     ]
    },
    {
     "data": {
      "image/png": "[encoded data removed]",
      "text/plain": [
       "<Figure size 432x288 with 1 Axes>"
      ]
     },
     "metadata": {
      "needs_background": "light"
     },
     "output_type": "display_data"
    }
   ],
   "source": [
    "print(amount_clusters)\n",
    "plt.plot(np.arange(len(wce)), wce, 'bx-')\n",
    "plt.xlabel('k')\n",
    "plt.ylabel('Sum_of_squared_distances')\n",
    "plt.title('Elbow Method For Optimal k')\n",
    "plt.show()"
   ]
  },
  {
   "cell_type": "code",
   "execution_count": null,
   "metadata": {},
   "outputs": [],
   "source": [
    "#KMedoids Sklearn (custom distance metric)\n",
    "from sklearn_extra.cluster import KMedoids\n",
    "kmedoids = KMedoids(n_clusters=2, random_state=0).fit(X)"
   ]
  },
  {
   "cell_type": "markdown",
   "metadata": {},
   "source": [
    "# Markov Chain"
   ]
  },
  {
   "cell_type": "code",
   "execution_count": 74,
   "metadata": {},
   "outputs": [],
   "source": [
    "def MakeTransitionMatrix(history, NumComponents, normalize=True):\n",
    "#      Input: DataArray - array of length N of integers that belong to 1 of C classes\n",
    "#      Output: TransMat - is a right stochastic matrix (each row sums to 1)\n",
    "#                         Each entry of TransMat(i,j) represents the probability\n",
    "#                         of going from label i to label j\n",
    "    NumTimeSteps  = len(history)\n",
    "    \n",
    "    #Pre-allocate transition matrix\n",
    "    TransMat = np.ones((NumComponents+1, NumComponents+1)) #+1 because 0-indexed\n",
    "\n",
    "    for i in range(NumTimeSteps-1):\n",
    "        Current = history[i]\n",
    "        Next    = history[i+1]\n",
    "        TransMat[Current, Next] = TransMat[Current, Next] + 1\n",
    "        \n",
    "    #Normalize rows\n",
    "    if normalize:\n",
    "        TransMat = TransMat/np.sum(TransMat,1)[:,None] #broadcast vector for normalization by rows\n",
    "    return TransMat"
   ]
  },
  {
   "cell_type": "code",
   "execution_count": 75,
   "metadata": {},
   "outputs": [],
   "source": [
    "def FindNextState(TransMat, state, loc_dict, plotNextStateProb=False):\n",
    "    #assume state is 0-indexed\n",
    "    rand = np.random.random()\n",
    "    \n",
    "    #Make cdf of transitioning out of a given state\n",
    "    cdf = np.cumsum(TransMat[state])    \n",
    "\n",
    "    #find first state above random number on cdf\n",
    "    nextState = np.where(cdf > rand)[0][0]\n",
    "    if plotNextStateProb: #plot cdf and probability of transitioning\n",
    "        StateSize = len(TransMat)\n",
    "        plt.figure(dpi=100)\n",
    "        plt.plot(np.insert(cdf, 0, 0))\n",
    "        plt.title(\"Cumulative Distribution function\" + \" - Chose state \" + str(nextState) + ' ' + loc_dict[nextState])\n",
    "        plt.axhline(rand, c='red')\n",
    "        for i in range(StateSize):\n",
    "            plt.axvline(i, c='k')\n",
    "        plt.show()\n",
    "    \n",
    "    return nextState"
   ]
  },
  {
   "cell_type": "code",
   "execution_count": 76,
   "metadata": {},
   "outputs": [],
   "source": [
    "def PredictFutureSteps(TransMat, MostRecentState, bldg_dict, NumFutureSteps, PlotCDF=False):\n",
    "    nextStates  = []\n",
    "    nextBldgs   = []\n",
    "    currState   = MostRecentState\n",
    "    for i in range(NumFutureSteps):\n",
    "        nextState = FindNextState(TransMat, currState, bldg_dict, PlotCDF)\n",
    "        #print(\"\\nNext state\", bldg_dict[nextState])\n",
    "        nextStates.append(nextState)\n",
    "        nextBldgs.append(bldg_dict[nextState])\n",
    "        currState = nextState\n",
    "\n",
    "    #print(\"Next states array:\", nextStates)\n",
    "    #print(\"Next buildings array:\", nextBldgs)\n",
    "    return nextStates, nextBldgs"
   ]
  },
  {
   "cell_type": "markdown",
   "metadata": {},
   "source": [
    "## Toy example for Markov Chain"
   ]
  },
  {
   "cell_type": "code",
   "execution_count": 77,
   "metadata": {
    "scrolled": true
   },
   "outputs": [
    {
     "name": "stdout",
     "output_type": "stream",
     "text": [
      "TransMat:\n",
      " [[0.375      0.375      0.125      0.125     ]\n",
      " [0.22222222 0.22222222 0.44444444 0.11111111]\n",
      " [0.2        0.2        0.2        0.4       ]\n",
      " [0.14285714 0.28571429 0.42857143 0.14285714]]\n"
     ]
    },
    {
     "data": {
      "text/plain": [
       "([0, 0, 3, 0, 1],\n",
       " ['Not Connected', 'Not Connected', 'lib west', 'Not Connected', 'hub'])"
      ]
     },
     "execution_count": 77,
     "metadata": {},
     "output_type": "execute_result"
    }
   ],
   "source": [
    "# demo of a Markov chain predictor\n",
    "\n",
    "#Toy data\n",
    "bldg_dict = {0: 'Not Connected', \n",
    "             1: 'hub',\n",
    "             2: 'reitz',\n",
    "             3: 'lib west'}\n",
    "\n",
    "personHistory = np.array([0,0,0,1,1,2,2,1,2,3,2,3,2,3,1,2,0,1,0])\n",
    "\n",
    "#Make transition matrix\n",
    "TransMat = MakeTransitionMatrix(personHistory,3)\n",
    "print(\"TransMat:\\n\", TransMat)\n",
    "\n",
    "#Predict future steps based on their most recent history\n",
    "NumFutureSteps  = 5\n",
    "MostRecentState = personHistory[-1]\n",
    "nextSteps, nextBldgs = PredictFutureSteps(TransMat, MostRecentState, bldg_dict, NumFutureSteps, PlotCDF=False)\n",
    "nextSteps, nextBldgs"
   ]
  },
  {
   "cell_type": "markdown",
   "metadata": {},
   "source": [
    "# MC prediction on each cluster\n",
    "Make Transition Matrix on entire cluster, leave 1 person out. \n",
    "Use remaining users in cluster to build transition matrix.\n",
    "User left-out user to predict 1 step ahead, compare to ground truth. "
   ]
  },
  {
   "cell_type": "code",
   "execution_count": 80,
   "metadata": {},
   "outputs": [],
   "source": [
    "bldgs     = location_info['name'].unique()\n",
    "bldg_dict = dict(zip(np.arange(len(bldgs)), bldgs))"
   ]
  },
  {
   "cell_type": "code",
   "execution_count": 81,
   "metadata": {},
   "outputs": [
    {
     "data": {
      "text/plain": [
       "{0: 'Academic Advising Center',\n",
       " 1: 'Martin H. Levin Advocacy Center',\n",
       " 2: 'Mec. Aerospace Engineering',\n",
       " 3: 'Alfred A. Ring Tennis Pavilion',\n",
       " 4: 'Anderson Hall',\n",
       " 5: 'Animal Science',\n",
       " 6: 'Animal Science Building C',\n",
       " 7: 'Aquatic Products Lab',\n",
       " 8: 'School of Architecture',\n",
       " 9: 'University Auditorium',\n",
       " 10: 'Bartram Hall',\n",
       " 11: 'BioContainment Facility',\n",
       " 12: 'Bio-Containment Facility',\n",
       " 13: 'Tolbert Hall',\n",
       " 14: 'Bruton-Geer Hall',\n",
       " 15: 'Black Hall',\n",
       " 16: 'Broward Hall',\n",
       " 17: 'Bryant Space Science Center',\n",
       " 18: 'Bryan Hall',\n",
       " 19: 'UF bookstore',\n",
       " 20: 'UF Bookstore',\n",
       " 21: 'UF Welcome Center',\n",
       " 22: 'Carleton Auditorium',\n",
       " 23: 'Carleton Auditorium - Attic',\n",
       " 24: 'Classroom Building 105',\n",
       " 25: 'Centrex Building',\n",
       " 26: 'Dept. of Chemical Engineering',\n",
       " 27: 'Chemistry Lab',\n",
       " 28: 'Constans Theatre',\n",
       " 29: 'Center for Outdoor Rec. & Educ.',\n",
       " 30: 'Criser Hall',\n",
       " 31: 'Carr Hall',\n",
       " 32: 'CISE',\n",
       " 33: 'Crops And Soils Field Lab',\n",
       " 34: 'Lacy R. Chilled Water Plt. CWP2',\n",
       " 35: 'Dauer Hall',\n",
       " 36: 'Fresh Food',\n",
       " 37: 'Engineering Design Building',\n",
       " 38: 'Env. Health and Safety EHS',\n",
       " 39: 'Elmore Hall',\n",
       " 40: 'Entomology-Nematology',\n",
       " 41: 'Fine Arts A',\n",
       " 42: 'Fine Arts B',\n",
       " 43: 'Fine Arts C',\n",
       " 44: 'Fine Arts D',\n",
       " 45: 'Forestry Resource and Conserv. FF1',\n",
       " 46: 'Forestry Resource and Conservation',\n",
       " 47: 'Fifield Hall',\n",
       " 48: 'Florida Gym',\n",
       " 49: 'Keene-Flint Hall',\n",
       " 50: 'Innovation Hub',\n",
       " 51: 'Griffin-Floyd Hall',\n",
       " 52: 'Florida Pool Offices/Lockers',\n",
       " 53: 'Gator Corner Dining Center',\n",
       " 54: 'Gerson Hall',\n",
       " 55: 'Grinter Hall',\n",
       " 56: 'Harn Museum Of Art',\n",
       " 57: 'Heritage Hall',\n",
       " 58: 'Hough Hall Business School',\n",
       " 59: 'Holland Law Center',\n",
       " 60: 'HR Building',\n",
       " 61: 'The Hub',\n",
       " 62: 'Hume Commons',\n",
       " 63: 'Institute Of Black Culture',\n",
       " 64: 'Hispanic/Latino Cultures Inst',\n",
       " 65: 'Mycology Lab',\n",
       " 66: 'Office Building',\n",
       " 67: 'Infirmary',\n",
       " 68: 'Jennings Hall Office',\n",
       " 69: 'Larsen Hall',\n",
       " 70: 'Library West',\n",
       " 71: 'Little Hall',\n",
       " 72: 'Materials Engineering',\n",
       " 73: 'MAE C',\n",
       " 74: 'Matherly Hall',\n",
       " 75: 'Mccarty Hall A',\n",
       " 76: 'Mccarty Hall B',\n",
       " 77: 'Mccarty Hall C',\n",
       " 78: 'Mccarty Hall D',\n",
       " 79: 'Mcguire Center',\n",
       " 80: 'Microkelvin Laboratory',\n",
       " 81: 'Microbiology/Cell Science',\n",
       " 82: 'Harrell Medical Education Building',\n",
       " 83: 'Mehrhof Hall',\n",
       " 84: 'Marston Science Library',\n",
       " 85: 'Music Building',\n",
       " 86: 'Dickinson Hall',\n",
       " 87: 'Nanoscale Research',\n",
       " 88: 'New Engineering Building',\n",
       " 89: 'Physics',\n",
       " 90: 'Norman Gym',\n",
       " 91: 'Norman Hall',\n",
       " 92: 'Norman Hall Addition',\n",
       " 93: 'Nuclear Sciences',\n",
       " 94: 'Newins-Ziegler Hall',\n",
       " 95: 'Ornamental Hort Laboratory 1',\n",
       " 96: 'Ornamental Hort Laboratory 2',\n",
       " 97: 'Phillips Center',\n",
       " 98: 'Physical Plant Central Stores',\n",
       " 99: 'Phelps Lab',\n",
       " 100: 'Agronomy Plant Science Lab',\n",
       " 101: 'Powell Hall',\n",
       " 102: 'Presidents Residence',\n",
       " 103: 'Plant Science Facility',\n",
       " 104: 'Particle Science & Technology',\n",
       " 105: 'Psychology',\n",
       " 106: 'Pugh Hall',\n",
       " 107: 'Racquet Club Dining Center',\n",
       " 108: 'Reitz Student Union',\n",
       " 109: 'Student Recreation and Fit. Center',\n",
       " 110: 'Rhines Hall',\n",
       " 111: 'Research Laboratory 1',\n",
       " 112: 'Research Laboratory 2',\n",
       " 113: 'Reed Lab',\n",
       " 114: 'Rinker Hall',\n",
       " 115: 'Rogers Frazier Hall',\n",
       " 116: 'Rolfs Hall',\n",
       " 117: 'Steinbrenner',\n",
       " 118: 'Sisler Hall Chemistry Research Bldg',\n",
       " 119: 'Smathers Library',\n",
       " 120: 'OConnell Center',\n",
       " 121: 'Ben Hill Griffin Stadium',\n",
       " 122: 'Stuzin Hall',\n",
       " 123: '# Stuzin Hall Walk Way',\n",
       " 124: 'SW Recreation Center',\n",
       " 125: 'Turfgrass Envirotron',\n",
       " 126: 'Tigert Hall',\n",
       " 127: 'Turlington Hall',\n",
       " 128: 'Urban Entomology',\n",
       " 129: 'Ustler Hall',\n",
       " 130: 'Van Fleet Hall',\n",
       " 131: 'Walker Hall',\n",
       " 132: 'Weil Hall',\n",
       " 133: 'Clock Tower',\n",
       " 134: 'Wiemer Hall',\n",
       " 135: 'Williamson Hall',\n",
       " 136: 'Yon Hall'}"
      ]
     },
     "execution_count": 81,
     "metadata": {},
     "output_type": "execute_result"
    }
   ],
   "source": [
    "bldg_dict"
   ]
  },
  {
   "cell_type": "code",
   "execution_count": 147,
   "metadata": {},
   "outputs": [],
   "source": [
    "NumClusters = len(roundedMeans)\n",
    "nBuildings = 137"
   ]
  },
  {
   "cell_type": "code",
   "execution_count": 153,
   "metadata": {},
   "outputs": [
    {
     "name": "stdout",
     "output_type": "stream",
     "text": [
      "Cluster: 0\n",
      "Average MC(O=1) prediction accuracy for cluster: 0 is 1.42\n",
      "Cluster: 1\n",
      "Average MC(O=1) prediction accuracy for cluster: 1 is 2.69\n",
      "Cluster: 2\n",
      "Average MC(O=1) prediction accuracy for cluster: 2 is 3.28\n",
      "Cluster: 3\n",
      "Average MC(O=1) prediction accuracy for cluster: 3 is 1.1\n",
      "Cluster: 4\n",
      "Average MC(O=1) prediction accuracy for cluster: 4 is 1.06\n",
      "Cluster: 5\n",
      "Average MC(O=1) prediction accuracy for cluster: 5 is 3.41\n",
      "Cluster: 6\n",
      "Average MC(O=1) prediction accuracy for cluster: 6 is 1.16\n",
      "Cluster: 7\n",
      "Average MC(O=1) prediction accuracy for cluster: 7 is 0.72\n",
      "Cluster: 8\n",
      "Average MC(O=1) prediction accuracy for cluster: 8 is 0.75\n",
      "Cluster: 9\n",
      "Average MC(O=1) prediction accuracy for cluster: 9 is 1.89\n",
      "Cluster: 10\n",
      "Average MC(O=1) prediction accuracy for cluster: 10 is 1.49\n",
      "Cluster: 11\n",
      "Average MC(O=1) prediction accuracy for cluster: 11 is 2.71\n",
      "Cluster: 12\n",
      "Average MC(O=1) prediction accuracy for cluster: 12 is 1.33\n",
      "Cluster: 13\n",
      "Average MC(O=1) prediction accuracy for cluster: 13 is 1.97\n",
      "Cluster: 14\n",
      "Average MC(O=1) prediction accuracy for cluster: 14 is 1.65\n",
      "Cluster: 15\n",
      "Average MC(O=1) prediction accuracy for cluster: 15 is 8.53\n",
      "Cluster: 16\n",
      "Average MC(O=1) prediction accuracy for cluster: 16 is 0.8\n",
      "Cluster: 17\n",
      "Average MC(O=1) prediction accuracy for cluster: 17 is 1.84\n",
      "Cluster: 18\n",
      "Average MC(O=1) prediction accuracy for cluster: 18 is 1.74\n"
     ]
    }
   ],
   "source": [
    "#Get the average accuracy for each cluster\n",
    "AvgAccPerCluster = []\n",
    "for clusterIdx in range(NumClusters):\n",
    "    print(\"Cluster:\", clusterIdx)\n",
    "    #find all people within a cluster\n",
    "    AccPerPerson = []\n",
    "    UsersInCluster    = clusters[clusterIdx]\n",
    "    NumUsersInCluster = len(UsersInCluster)\n",
    "    for u in range(NumUsersInCluster):\n",
    "        TempUsersInCluster = UsersInCluster.copy()\n",
    "        UserToPredict      = TempUsersInCluster[u]\n",
    "        TempUsersInCluster.remove(UserToPredict) #remove person to use prediction\n",
    "        ClusterSubsetForTransMat = TempUsersInCluster\n",
    "\n",
    "        #Grab the data associated with a person's cluster assignment\n",
    "        ClusterHistory = X[ClusterSubsetForTransMat].astype(int)\n",
    "        NumUsersInSubCluster = len(ClusterSubsetForTransMat)\n",
    "        TransMat = np.zeros((nBuildings, nBuildings))\n",
    "        for i in range(NumUsersInSubCluster):\n",
    "            userHistory = ClusterHistory[i]\n",
    "            TransMat += MakeTransitionMatrix(userHistory, nBuildings-1, False)\n",
    "        TransMat = TransMat/np.sum(TransMat,1)[:,None] #normalize\n",
    "\n",
    "        #Predict each successive step for the left-out user\n",
    "        NumFutureSteps = 1\n",
    "        NumCorrect = 0\n",
    "        userHistory = X[UserToPredict].astype(int)\n",
    "        for t in range(len(userHistory)-1):  \n",
    "            MostRecentState = userHistory[i]\n",
    "            nextSteps, nextBldgs = PredictFutureSteps(TransMat, MostRecentState, bldg_dict, NumFutureSteps, PlotCDF=False)\n",
    "\n",
    "            if nextSteps[0] == userHistory[t+1]: #Does it match the ground truth?\n",
    "                NumCorrect += 1\n",
    "        UserAccuracy = NumCorrect/(len(userHistory)-1)*100\n",
    "        AccPerPerson.append(UserAccuracy)\n",
    "    AvgAcc = round(np.array(AccPerPerson).mean(),2)\n",
    "    print(\"Average MC(O=1) prediction accuracy for cluster: \" + str(clusterIdx) + \" is \" + str(AvgAcc))\n",
    "    AvgAccPerCluster.append(AvgAcc)"
   ]
  },
  {
   "cell_type": "code",
   "execution_count": 154,
   "metadata": {},
   "outputs": [
    {
     "name": "stdout",
     "output_type": "stream",
     "text": [
      "Baseline: 0.73\n"
     ]
    }
   ],
   "source": [
    "BaselineAcc = round(1/137 *100, 3)\n",
    "print('Baseline:', BaselineAcc)"
   ]
  },
  {
   "cell_type": "code",
   "execution_count": 165,
   "metadata": {},
   "outputs": [
    {
     "data": {
      "image/png": "[encoded data removed]",
      "text/plain": [
       "<Figure size 700x500 with 1 Axes>"
      ]
     },
     "metadata": {
      "needs_background": "light"
     },
     "output_type": "display_data"
    }
   ],
   "source": [
    "from matplotlib.ticker import MaxNLocator\n",
    "ax = plt.figure(figsize=(7,5), dpi=100).gca()\n",
    "ax.bar(np.arange(NumClusters), np.array(AvgAccPerCluster))\n",
    "ax.axhline(y=BaselineAcc, color='r', linestyle='-')\n",
    "ax.set_title('Average Predictive Accuracy MC(O=1)')\n",
    "ax.set_xlabel('Cluster Index')\n",
    "ax.set_ylabel('Accuracy (0-100)')\n",
    "ax.xaxis.set_major_locator(MaxNLocator(integer=True))\n"
   ]
  },
  {
   "cell_type": "code",
   "execution_count": 169,
   "metadata": {},
   "outputs": [],
   "source": [
    "clusterLens = [len(c) for c in clusters]"
   ]
  },
  {
   "cell_type": "code",
   "execution_count": 170,
   "metadata": {},
   "outputs": [
    {
     "data": {
      "image/png": "[encoded data removed]",
      "text/plain": [
       "<Figure size 700x500 with 1 Axes>"
      ]
     },
     "metadata": {
      "needs_background": "light"
     },
     "output_type": "display_data"
    }
   ],
   "source": [
    "from matplotlib.ticker import MaxNLocator\n",
    "ax = plt.figure(figsize=(7,5), dpi=100).gca()\n",
    "ax.bar(np.arange(NumClusters), np.array(clusterLens))\n",
    "ax.set_title('Cluster Size')\n",
    "ax.set_xlabel('Cluster Index')\n",
    "ax.set_ylabel('Num Users in Cluster')\n",
    "ax.xaxis.set_major_locator(MaxNLocator(integer=True))\n"
   ]
  },
  {
   "cell_type": "code",
   "execution_count": null,
   "metadata": {},
   "outputs": [],
   "source": []
  },
  {
   "cell_type": "code",
   "execution_count": null,
   "metadata": {},
   "outputs": [],
   "source": []
  },
  {
   "cell_type": "code",
   "execution_count": null,
   "metadata": {},
   "outputs": [],
   "source": []
  },
  {
   "cell_type": "code",
   "execution_count": 241,
   "metadata": {
    "scrolled": true
   },
   "outputs": [
    {
     "name": "stdout",
     "output_type": "stream",
     "text": [
      "[[0.00729927 0.00729927 0.00729927 ... 0.00729927 0.00729927 0.00729927]\n",
      " [0.00729927 0.00729927 0.00729927 ... 0.00729927 0.00729927 0.00729927]\n",
      " [0.00729927 0.00729927 0.00729927 ... 0.00729927 0.00729927 0.00729927]\n",
      " ...\n",
      " [0.00729927 0.00729927 0.00729927 ... 0.00729927 0.00729927 0.00729927]\n",
      " [0.00729927 0.00729927 0.00729927 ... 0.00729927 0.00729927 0.00729927]\n",
      " [0.00729927 0.00729927 0.00729927 ... 0.00729927 0.00729927 0.00729927]]\n"
     ]
    }
   ],
   "source": [
    "#QUICK CODE FOR DEMO\n",
    "cluster1History = roundedMeans[clusterIdx].astype(int)\n",
    "TransMat = MakeTransitionMatrix(cluster1History, nBuildings-1)\n",
    "print(TransMat)"
   ]
  },
  {
   "cell_type": "code",
   "execution_count": 260,
   "metadata": {},
   "outputs": [
    {
     "data": {
      "text/plain": [
       "([99, 61, 112, 18, 58, 8, 83, 89, 124, 16],\n",
       " ['Phelps Lab',\n",
       "  'The Hub',\n",
       "  'Research Laboratory 2',\n",
       "  'Bryan Hall',\n",
       "  'Hough Hall Business School',\n",
       "  'School of Architecture',\n",
       "  'Mehrhof Hall',\n",
       "  'Physics',\n",
       "  'SW Recreation Center',\n",
       "  'Broward Hall'])"
      ]
     },
     "execution_count": 260,
     "metadata": {},
     "output_type": "execute_result"
    }
   ],
   "source": [
    "#Predict future steps based on their most recent history\n",
    "NumFutureSteps  = 10\n",
    "MostRecentState = cluster1History[-1]\n",
    "bldgs = location_info['name'].unique()\n",
    "bldg_dict = dict(zip(np.arange(len(bldgs)), bldgs))\n",
    "nextSteps, nextBldgs = PredictFutureSteps(TransMat, MostRecentState, bldg_dict, NumFutureSteps, PlotCDF=False)\n",
    "nextSteps, nextBldgs"
   ]
  },
  {
   "cell_type": "code",
   "execution_count": 261,
   "metadata": {},
   "outputs": [
    {
     "data": {
      "text/plain": [
       "[99, 61, 112, 18, 58, 8, 83, 89, 124, 16]"
      ]
     },
     "execution_count": 261,
     "metadata": {},
     "output_type": "execute_result"
    }
   ],
   "source": [
    "with open('cluster1History.npy', 'wb') as f:\n",
    "    np.save(f, cluster1History)\n",
    "with open('nextSteps.npy', 'wb') as f:\n",
    "    np.save(f, nextSteps)\n",
    "    \n",
    "cluster1History\n",
    "nextSteps"
   ]
  }
 ],
 "metadata": {
  "kernelspec": {
   "display_name": "Python 3",
   "language": "python",
   "name": "python3"
  },
  "language_info": {
   "codemirror_mode": {
    "name": "ipython",
    "version": 3
   },
   "file_extension": ".py",
   "mimetype": "text/x-python",
   "name": "python",
   "nbconvert_exporter": "python",
   "pygments_lexer": "ipython3",
   "version": "3.7.6"
  },
  "metadata": {
   "interpreter": {
    "hash": "d262b3cf53436df4d43148531b8b8c13029e50250a57d118b8471bcdaf78eff0"
   }
  }
 },
 "nbformat": 4,
 "nbformat_minor": 2
}
